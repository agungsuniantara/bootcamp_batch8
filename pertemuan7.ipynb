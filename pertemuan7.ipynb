{
 "cells": [
  {
   "cell_type": "code",
   "execution_count": 1,
   "metadata": {},
   "outputs": [
    {
     "name": "stdout",
     "output_type": "stream",
     "text": [
      "50\n",
      "30\n",
      "90\n"
     ]
    }
   ],
   "source": [
    "def tambah1(): # function void\n",
    "    a = 20\n",
    "    b = 30\n",
    "    hasil = a + b\n",
    "    print(hasil)\n",
    "\n",
    "def tambah2(a, b): # function parameter\n",
    "    hasil = a + b\n",
    "    print(hasil)\n",
    "\n",
    "def tambah3(a, b): # function return\n",
    "    hasil = a + b\n",
    "    return hasil\n",
    "\n",
    "tambah1()   # function void\n",
    "tambah2(10,20)  # function parameter\n",
    "total = tambah3(40,50) # function return\n",
    "print(total)"
   ]
  },
  {
   "cell_type": "code",
   "execution_count": 13,
   "metadata": {},
   "outputs": [
    {
     "name": "stdout",
     "output_type": "stream",
     "text": [
      "100\n",
      "200\n"
     ]
    }
   ],
   "source": [
    "nilai = 100\n",
    "\n",
    "def ganti():  \n",
    "    global nilai\n",
    "    nilai = 200\n",
    "\n",
    "print(nilai)\n",
    "ganti()\n",
    "print(nilai)"
   ]
  },
  {
   "cell_type": "markdown",
   "metadata": {},
   "source": [
    "FUNCTION RECURSIVE"
   ]
  },
  {
   "cell_type": "code",
   "execution_count": 42,
   "metadata": {},
   "outputs": [
    {
     "data": {
      "text/plain": [
       "120"
      ]
     },
     "execution_count": 42,
     "metadata": {},
     "output_type": "execute_result"
    }
   ],
   "source": [
    "def test(n): \n",
    "    if n == 0:\n",
    "        return True\n",
    "    else:\n",
    "        return n * test(n - 1) # 10 * 9 * 3 * 2 * 1\n",
    "\n",
    "test(5)"
   ]
  },
  {
   "cell_type": "markdown",
   "metadata": {},
   "source": [
    "ASSIGNMENT"
   ]
  },
  {
   "cell_type": "code",
   "execution_count": 44,
   "metadata": {},
   "outputs": [
    {
     "name": "stdout",
     "output_type": "stream",
     "text": [
      "100\n",
      "20\n"
     ]
    }
   ],
   "source": [
    "data = [90,80,100,20]\n",
    "\n",
    "print(max(data))\n",
    "print(min(data))"
   ]
  },
  {
   "cell_type": "markdown",
   "metadata": {},
   "source": [
    "FUNCTION ARGS & KWARGS"
   ]
  },
  {
   "cell_type": "code",
   "execution_count": 48,
   "metadata": {},
   "outputs": [
    {
     "name": "stdout",
     "output_type": "stream",
     "text": [
      "[10, 2, 3]\n",
      "90\n"
     ]
    }
   ],
   "source": [
    "test = [1,2,3] # list\n",
    "test2 = {10,20,30} # set\n",
    "test3 = (90,9,8) # tuple\n",
    "\n",
    "test[0] = 10\n",
    "print(test)\n",
    "\n",
    "print(test3[0])"
   ]
  },
  {
   "cell_type": "code",
   "execution_count": 50,
   "metadata": {},
   "outputs": [
    {
     "name": "stdout",
     "output_type": "stream",
     "text": [
      "('satu', 'dua', 'tiga')\n",
      "satu\n",
      "dua\n",
      "tiga\n"
     ]
    }
   ],
   "source": [
    "def tampil(*a): # args\n",
    "    print(a)\n",
    "    for i in a:\n",
    "        print(i)\n",
    "\n",
    "tampil(\"satu\", \"dua\", \"tiga\")"
   ]
  },
  {
   "cell_type": "code",
   "execution_count": 53,
   "metadata": {},
   "outputs": [
    {
     "name": "stdout",
     "output_type": "stream",
     "text": [
      "{'nama': 'agung', 'alamat': 'denpasar'}\n",
      "agung\n",
      "denpasar\n"
     ]
    }
   ],
   "source": [
    "def tampil2(**a): # kwargs\n",
    "    print(a)\n",
    "    for key in a.keys():\n",
    "        print(a[key])\n",
    "\n",
    "tampil2(nama=\"agung\", alamat=\"denpasar\")"
   ]
  },
  {
   "cell_type": "markdown",
   "metadata": {},
   "source": [
    "NUMPY"
   ]
  },
  {
   "cell_type": "code",
   "execution_count": 55,
   "metadata": {},
   "outputs": [
    {
     "name": "stdout",
     "output_type": "stream",
     "text": [
      "[1 2 3 4]\n",
      "1\n",
      "2\n"
     ]
    }
   ],
   "source": [
    "import numpy as np\n",
    "\n",
    "a = np.array([1,2,3,4]) # 1 dimensi\n",
    "print(a)\n",
    "print(a[0])\n",
    "print(a[1])"
   ]
  },
  {
   "cell_type": "code",
   "execution_count": 59,
   "metadata": {},
   "outputs": [
    {
     "name": "stdout",
     "output_type": "stream",
     "text": [
      "[[1 2 3]\n",
      " [4 5 6]\n",
      " [7 8 9]]\n",
      "[1 2 3]\n",
      "3\n"
     ]
    }
   ],
   "source": [
    "b = np.array([  # 2 dimensi\n",
    "    [1,2,3],\n",
    "    [4,5,6],\n",
    "    [7,8,9]\n",
    "])\n",
    "\n",
    "print(b)\n",
    "print(b[0])\n",
    "print(b[0][2])"
   ]
  },
  {
   "cell_type": "code",
   "execution_count": 64,
   "metadata": {},
   "outputs": [
    {
     "name": "stdout",
     "output_type": "stream",
     "text": [
      "[[[ 1  2  3]\n",
      "  [ 4  5  6]]\n",
      "\n",
      " [[ 7  8  9]\n",
      "  [10 11 12]]]\n",
      "[[1 2 3]\n",
      " [4 5 6]]\n",
      "[1 2 3]\n",
      "6\n"
     ]
    }
   ],
   "source": [
    "c = np.array([\n",
    "    [\n",
    "        [10,11,12],\n",
    "        [13,14,15],\n",
    "        [16,17,18]\n",
    "    ],\n",
    "    [\n",
    "        [20,21,22],\n",
    "        [23,24,25],\n",
    "        [26,27,28]\n",
    "    ],\n",
    "])\n",
    "\n",
    "print(c)\n",
    "print(c[0])\n",
    "print(c[0][0])\n",
    "print(c[0][1][2])"
   ]
  },
  {
   "cell_type": "code",
   "execution_count": 65,
   "metadata": {},
   "outputs": [
    {
     "name": "stdout",
     "output_type": "stream",
     "text": [
      "(3, 3)\n",
      "2\n",
      "9\n"
     ]
    }
   ],
   "source": [
    "b = np.array([  # 2 dimensi\n",
    "    [1,2,3],\n",
    "    [4,5,6],\n",
    "    [7,8,9]\n",
    "])\n",
    "\n",
    "print(b.shape)\n",
    "print(b.ndim)\n",
    "print(b.size)"
   ]
  },
  {
   "cell_type": "markdown",
   "metadata": {},
   "source": [
    "INDEXING & SLICING"
   ]
  },
  {
   "cell_type": "code",
   "execution_count": 83,
   "metadata": {},
   "outputs": [
    {
     "name": "stdout",
     "output_type": "stream",
     "text": [
      "[[4 5]\n",
      " [7 8]]\n"
     ]
    }
   ],
   "source": [
    "a = np.array([  \n",
    "    [1,2,3],\n",
    "    [4,5,6],\n",
    "    [7,8,9]\n",
    "])\n",
    "\n",
    "print(a[1:, 0:2])"
   ]
  },
  {
   "cell_type": "code",
   "execution_count": 87,
   "metadata": {},
   "outputs": [
    {
     "name": "stdout",
     "output_type": "stream",
     "text": [
      "[[ 1 20]\n",
      " [ 4  5]\n",
      " [ 7  8]]\n"
     ]
    }
   ],
   "source": [
    "a = np.array([  \n",
    "    [1,2,3],\n",
    "    [4,5,6],\n",
    "    [7,8,9]\n",
    "])\n",
    "\n",
    "a[0][1] = 20\n",
    "print(a[0:, 0:2]) # [baris, kolom]"
   ]
  },
  {
   "cell_type": "markdown",
   "metadata": {},
   "source": [
    "ASSIGNMENT"
   ]
  },
  {
   "cell_type": "markdown",
   "metadata": {},
   "source": [
    "satu"
   ]
  },
  {
   "cell_type": "code",
   "execution_count": 89,
   "metadata": {},
   "outputs": [
    {
     "name": "stdout",
     "output_type": "stream",
     "text": [
      "['Denis' 'Scratch' '8']\n",
      "['Frank' 'Python' '18']\n",
      "['Roger' 'Unity' '15']\n",
      "['Denis' 'Frank' 'Roger']\n",
      "['Scratch' 'Python' 'Unity']\n",
      "[['Denis' 'Roblox' '8']\n",
      " ['Frank' 'Python' '18']\n",
      " ['Roger' 'Unity' '15']]\n"
     ]
    }
   ],
   "source": [
    "# No1\n",
    "data = np.array([\n",
    "    [\"Denis\", \"Scratch\", 8],\n",
    "    [\"Frank\", \"Python\", 18],\n",
    "    [\"Roger\", \"Unity\", 15]\n",
    "])\n",
    "\n",
    "# No2\n",
    "print(data[0])\n",
    "print(data[1])\n",
    "print(data[2])\n",
    "\n",
    "# No3\n",
    "print(data[0:, 0])\n",
    "print(data[0:, 1])\n",
    "\n",
    "# No4\n",
    "data[0][1] = \"Roblox\"\n",
    "print(data)"
   ]
  },
  {
   "cell_type": "markdown",
   "metadata": {},
   "source": [
    "dua"
   ]
  },
  {
   "cell_type": "code",
   "execution_count": 105,
   "metadata": {},
   "outputs": [
    {
     "name": "stdout",
     "output_type": "stream",
     "text": [
      "['Java' 'Richie' '60' 'C']\n",
      "['Python' 'Niels' '80' 'A']\n",
      "['R' 'Brie' '75' 'B']\n",
      "['Java' 'Python' 'R']\n",
      "['Richie' 'Niels' 'Brie']\n",
      "['60' '80' '75']\n",
      "['C' 'A' 'B']\n",
      "[['60' 'C']\n",
      " ['80' 'A']]\n",
      "[['Data analyst' 'Richie' '60' 'C']\n",
      " ['Data analyst' 'Niels' '80' 'A']\n",
      " ['Data analyst' 'Brie' '75' 'B']]\n",
      "[['Data analyst' 'Richie' '60' 'C']\n",
      " ['Data analyst' 'Niels' '80' 'A']\n",
      " ['Data analyst' 'Brie' '90' 'A+']]\n"
     ]
    }
   ],
   "source": [
    "# No1\n",
    "data = np.array([\n",
    "    [\"Java\", \"Richie\", 60, \"C\"],\n",
    "    [\"Python\", \"Niels\", 80, \"A\"],\n",
    "    [\"R\", \"Brie\", 75, \"B\"]\n",
    "])\n",
    "\n",
    "# No2\n",
    "print(data[0])\n",
    "print(data[1])\n",
    "print(data[2])\n",
    "\n",
    "# No3\n",
    "print(data[0:, 0])\n",
    "print(data[0:, 1])\n",
    "print(data[0:, 2])\n",
    "print(data[0:, 3])\n",
    "\n",
    "# No4\n",
    "print(data[0:2, 2:])\n",
    "\n",
    "# No5\n",
    "data[0:, 0] = \"Data analyst\"\n",
    "print(data)\n",
    "\n",
    "# No6\n",
    "data[2][2] = 90\n",
    "data[2][3] = \"A+\"\n",
    "print(data)\n"
   ]
  },
  {
   "cell_type": "code",
   "execution_count": 103,
   "metadata": {},
   "outputs": [
    {
     "name": "stdout",
     "output_type": "stream",
     "text": [
      "[['60' 'C']\n",
      " ['80' 'A']]\n"
     ]
    }
   ],
   "source": [
    "data = np.array([\n",
    "    [\"Java\", \"Richie\", 60, \"C\"],\n",
    "    [\"Python\", \"Niels\", 80, \"A\"],\n",
    "    [\"R\", \"Brie\", 75, \"B\"]\n",
    "])\n",
    "\n",
    "print(data[0:2, 2:]) # [baris(start : batas), kolom(start : batas)]"
   ]
  },
  {
   "cell_type": "code",
   "execution_count": null,
   "metadata": {},
   "outputs": [],
   "source": []
  },
  {
   "cell_type": "code",
   "execution_count": null,
   "metadata": {},
   "outputs": [],
   "source": []
  }
 ],
 "metadata": {
  "kernelspec": {
   "display_name": "Python 3",
   "language": "python",
   "name": "python3"
  },
  "language_info": {
   "codemirror_mode": {
    "name": "ipython",
    "version": 3
   },
   "file_extension": ".py",
   "mimetype": "text/x-python",
   "name": "python",
   "nbconvert_exporter": "python",
   "pygments_lexer": "ipython3",
   "version": "3.12.5"
  }
 },
 "nbformat": 4,
 "nbformat_minor": 2
}
