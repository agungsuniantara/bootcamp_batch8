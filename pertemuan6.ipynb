{
 "cells": [
  {
   "cell_type": "code",
   "execution_count": 1,
   "metadata": {},
   "outputs": [
    {
     "name": "stdout",
     "output_type": "stream",
     "text": [
      "1\n",
      "agung\n"
     ]
    }
   ],
   "source": [
    "data1 = [1,2,3,4,5] # list\n",
    "data2 = {\n",
    "    \"nama\" : \"agung\", \n",
    "    \"alamat\" : \"denpasar\"\n",
    "}\n",
    "print(data1[0])\n",
    "print(data2[\"nama\"])"
   ]
  },
  {
   "cell_type": "markdown",
   "metadata": {},
   "source": [
    "COPY"
   ]
  },
  {
   "cell_type": "code",
   "execution_count": 3,
   "metadata": {},
   "outputs": [
    {
     "name": "stdout",
     "output_type": "stream",
     "text": [
      "{'nama': 'agung', 'alamat': 'denpasar'}\n"
     ]
    }
   ],
   "source": [
    "data = {\n",
    "    \"nama\" : \"agung\", \n",
    "    \"alamat\" : \"denpasar\"\n",
    "}\n",
    "\n",
    "data2 = data.copy()\n",
    "print(data2)"
   ]
  },
  {
   "cell_type": "markdown",
   "metadata": {},
   "source": [
    "CLEAR "
   ]
  },
  {
   "cell_type": "code",
   "execution_count": 4,
   "metadata": {},
   "outputs": [
    {
     "name": "stdout",
     "output_type": "stream",
     "text": [
      "{}\n"
     ]
    }
   ],
   "source": [
    "data = {\n",
    "    \"nama\" : \"agung\", \n",
    "    \"alamat\" : \"denpasar\"\n",
    "}\n",
    "\n",
    "data.clear()\n",
    "print(data)"
   ]
  },
  {
   "cell_type": "markdown",
   "metadata": {},
   "source": [
    "FROMKEY"
   ]
  },
  {
   "cell_type": "code",
   "execution_count": 5,
   "metadata": {},
   "outputs": [
    {
     "name": "stdout",
     "output_type": "stream",
     "text": [
      "{'kambing': 'Hewan', 'ayam': 'Hewan', 'sapi': 'Hewan'}\n"
     ]
    }
   ],
   "source": [
    "key = {\"sapi\", \"ayam\", \"kambing\"}\n",
    "hewan = dict.fromkeys(key, \"Hewan\")\n",
    "print(hewan)"
   ]
  },
  {
   "cell_type": "markdown",
   "metadata": {},
   "source": [
    "LEN"
   ]
  },
  {
   "cell_type": "code",
   "execution_count": 7,
   "metadata": {},
   "outputs": [
    {
     "name": "stdout",
     "output_type": "stream",
     "text": [
      "2\n",
      "4\n"
     ]
    }
   ],
   "source": [
    "data = { # dictionary {}\n",
    "    \"nama\" : \"agung\", \n",
    "    \"alamat\" : \"denpasar\"\n",
    "}\n",
    "data2 = [1,2,3,4] # list []\n",
    "\n",
    "print(len(data))\n",
    "print(len(data2))"
   ]
  },
  {
   "cell_type": "markdown",
   "metadata": {},
   "source": [
    "GET"
   ]
  },
  {
   "cell_type": "code",
   "execution_count": 10,
   "metadata": {},
   "outputs": [
    {
     "name": "stdout",
     "output_type": "stream",
     "text": [
      "agung\n"
     ]
    }
   ],
   "source": [
    "data = {\n",
    "    \"nama\" : \"agung\", \n",
    "    \"alamat\" : \"denpasar\"\n",
    "}\n",
    "\n",
    "nama = data.get(\"nama\")\n",
    "print(nama)"
   ]
  },
  {
   "cell_type": "markdown",
   "metadata": {},
   "source": [
    "ITEMS, KEYS, VALUES"
   ]
  },
  {
   "cell_type": "code",
   "execution_count": 13,
   "metadata": {},
   "outputs": [
    {
     "name": "stdout",
     "output_type": "stream",
     "text": [
      "dict_values(['agung', 'denpasar'])\n",
      "dict_keys(['nama', 'alamat'])\n",
      "dict_items([('nama', 'agung'), ('alamat', 'denpasar')])\n"
     ]
    }
   ],
   "source": [
    "data = {\n",
    "    \"nama\" : \"agung\", \n",
    "    \"alamat\" : \"denpasar\"\n",
    "}\n",
    "\n",
    "print(data.values())\n",
    "print(data.keys())\n",
    "print(data.items())"
   ]
  },
  {
   "cell_type": "code",
   "execution_count": 16,
   "metadata": {},
   "outputs": [
    {
     "name": "stdout",
     "output_type": "stream",
     "text": [
      "agung\n",
      "denpasar\n"
     ]
    }
   ],
   "source": [
    "for i in data.values():\n",
    "    print(i)"
   ]
  },
  {
   "cell_type": "code",
   "execution_count": 19,
   "metadata": {},
   "outputs": [
    {
     "name": "stdout",
     "output_type": "stream",
     "text": [
      "nama\n",
      "alamat\n"
     ]
    }
   ],
   "source": [
    "for i in data.keys():\n",
    "    print(i)"
   ]
  },
  {
   "cell_type": "code",
   "execution_count": 31,
   "metadata": {},
   "outputs": [
    {
     "name": "stdout",
     "output_type": "stream",
     "text": [
      "key = nama, value = agung\n",
      "key = alamat, value = denpasar\n"
     ]
    }
   ],
   "source": [
    "data = {\n",
    "    \"nama\" : \"agung\", \n",
    "    \"alamat\" : \"denpasar\"\n",
    "}\n",
    "\n",
    "for a,b in data.items():\n",
    "    print(f\"key = {a}, value = {b}\")\n",
    "    "
   ]
  },
  {
   "cell_type": "code",
   "execution_count": 28,
   "metadata": {},
   "outputs": [
    {
     "name": "stdout",
     "output_type": "stream",
     "text": [
      "5\n"
     ]
    }
   ],
   "source": [
    "data = {\n",
    "    \"nilai\" : [1,2,3,4,5],\n",
    "    \"jumlah\" : [10,20,30,40,50]\n",
    "}\n",
    "\n",
    "angka = 5\n",
    "\n",
    "for a,b in data.copy().items():\n",
    "    if a == \"nilai\":\n",
    "        if angka in b:\n",
    "            print(angka)"
   ]
  },
  {
   "cell_type": "markdown",
   "metadata": {},
   "source": [
    "ASSIGNMENT"
   ]
  },
  {
   "cell_type": "code",
   "execution_count": 32,
   "metadata": {},
   "outputs": [
    {
     "name": "stdout",
     "output_type": "stream",
     "text": [
      "{'1': 'ayam', '2': 'sapi', '4': 'kambing'}\n"
     ]
    }
   ],
   "source": [
    "# No 1\n",
    "\n",
    "data = {\n",
    "    \"1\" : \"ayam\",\n",
    "    \"2\" : \"sapi\",\n",
    "    \"3\" : \"mawar\",\n",
    "    \"4\" : \"kambing\",\n",
    "    \"5\" : \"lily\"\n",
    "}\n",
    "\n",
    "data2 = data.copy()\n",
    "\n",
    "for a,b in data2.items():\n",
    "    if b == \"mawar\" or b == \"lily\":\n",
    "        del data[a]\n",
    "\n",
    "print(data)"
   ]
  },
  {
   "cell_type": "code",
   "execution_count": 35,
   "metadata": {},
   "outputs": [
    {
     "name": "stdout",
     "output_type": "stream",
     "text": [
      "dict_keys(['1', '2', '3', '4', '5'])\n",
      "{'1': 'hewan', '2': 'sapi', '3': 'hewan', '4': 'kambing', '5': 'hewan'}\n"
     ]
    }
   ],
   "source": [
    "# No 2\n",
    "\n",
    "data = {\n",
    "    \"1\" : \"ayam\",\n",
    "    \"2\" : \"sapi\",\n",
    "    \"3\" : \"mawar\",\n",
    "    \"4\" : \"kambing\",\n",
    "    \"5\" : \"lily\"\n",
    "}\n",
    "\n",
    "print(data.keys())\n",
    "\n",
    "for i in data.keys():\n",
    "    angka = int(i)\n",
    "    if angka % 2 != 0:\n",
    "        data[i] = \"hewan\"\n",
    "\n",
    "print(data)"
   ]
  },
  {
   "cell_type": "markdown",
   "metadata": {},
   "source": [
    "FUNCTION"
   ]
  },
  {
   "cell_type": "code",
   "execution_count": 38,
   "metadata": {},
   "outputs": [
    {
     "name": "stdout",
     "output_type": "stream",
     "text": [
      "50\n",
      "50\n",
      "50\n"
     ]
    }
   ],
   "source": [
    "# FUNCTION VOID\n",
    "\n",
    "def tambah():\n",
    "    a = 10\n",
    "    b = 20\n",
    "    print(a + b)\n",
    "\n",
    "tambah()\n",
    "tambah()\n",
    "tambah()"
   ]
  },
  {
   "cell_type": "code",
   "execution_count": 40,
   "metadata": {},
   "outputs": [
    {
     "name": "stdout",
     "output_type": "stream",
     "text": [
      "50\n",
      "25\n"
     ]
    }
   ],
   "source": [
    "# FUNCTION PARAMETER\n",
    "\n",
    "def tambah(a, b):\n",
    "    hasil = a + b\n",
    "    print(hasil)\n",
    "\n",
    "tambah(20,30)\n",
    "tambah(10,15)"
   ]
  },
  {
   "cell_type": "code",
   "execution_count": 42,
   "metadata": {},
   "outputs": [
    {
     "name": "stdout",
     "output_type": "stream",
     "text": [
      "50\n"
     ]
    }
   ],
   "source": [
    "# FUNCTION RETURN\n",
    "\n",
    "def tambah(a,b):\n",
    "    hasil = a + b\n",
    "    return hasil\n",
    "\n",
    "total = tambah(20, 30)\n",
    "print(total)"
   ]
  },
  {
   "cell_type": "code",
   "execution_count": 46,
   "metadata": {},
   "outputs": [
    {
     "name": "stdout",
     "output_type": "stream",
     "text": [
      "6000\n"
     ]
    },
    {
     "data": {
      "text/plain": [
       "200"
      ]
     },
     "execution_count": 46,
     "metadata": {},
     "output_type": "execute_result"
    }
   ],
   "source": [
    "def kali(a,b):\n",
    "    return a * b \n",
    "\n",
    "def luas_balok(a, b, c):\n",
    "    hasil = kali(a, b) * c\n",
    "    print(hasil)\n",
    "\n",
    "luas_balok(10,20,30)\n",
    "kali(10,20)"
   ]
  },
  {
   "cell_type": "markdown",
   "metadata": {},
   "source": [
    "isinstance"
   ]
  },
  {
   "cell_type": "code",
   "execution_count": 48,
   "metadata": {},
   "outputs": [
    {
     "name": "stdout",
     "output_type": "stream",
     "text": [
      "False\n",
      "True\n"
     ]
    }
   ],
   "source": [
    "x = \"hello\"\n",
    "\n",
    "print(isinstance(x, int))\n",
    "print(isinstance(x, str))"
   ]
  },
  {
   "cell_type": "code",
   "execution_count": 49,
   "metadata": {},
   "outputs": [
    {
     "name": "stdout",
     "output_type": "stream",
     "text": [
      "10 adalah angka\n",
      "hello bukan angka\n",
      "3.14 adalah angka\n"
     ]
    }
   ],
   "source": [
    "data = [10, \"hello\", 3.14]\n",
    "\n",
    "for i in data: \n",
    "    if isinstance(i, (int,float)): \n",
    "        print(f\"{i} adalah angka\")\n",
    "    else:\n",
    "        print(f\"{i} bukan angka\")"
   ]
  },
  {
   "cell_type": "markdown",
   "metadata": {},
   "source": [
    "MAP & FUNCTION"
   ]
  },
  {
   "cell_type": "code",
   "execution_count": 51,
   "metadata": {},
   "outputs": [
    {
     "name": "stdout",
     "output_type": "stream",
     "text": [
      "[2, 4, 6, 8, 10]\n"
     ]
    }
   ],
   "source": [
    "def kali(x):\n",
    "    return x * 2\n",
    "\n",
    "hasil = list(map(kali, [1,2,3,4,5]))\n",
    "print(hasil)"
   ]
  },
  {
   "cell_type": "markdown",
   "metadata": {},
   "source": [
    "TRY EXCEPT"
   ]
  },
  {
   "cell_type": "code",
   "execution_count": 55,
   "metadata": {},
   "outputs": [
    {
     "name": "stdout",
     "output_type": "stream",
     "text": [
      "10\n"
     ]
    }
   ],
   "source": [
    "try:\n",
    "    angka1 = int(input(\"angka : \"))\n",
    "    print(angka1)\n",
    "except ValueError:\n",
    "    print(\"input berupa angka !!\")"
   ]
  },
  {
   "cell_type": "code",
   "execution_count": 1,
   "metadata": {},
   "outputs": [
    {
     "name": "stdout",
     "output_type": "stream",
     "text": [
      "input berupa angka !!\n",
      "10\n"
     ]
    }
   ],
   "source": [
    "while True : \n",
    "    try:\n",
    "        angka1 = int(input(\"angka : \"))\n",
    "        print(angka1)\n",
    "        break\n",
    "    except ValueError:\n",
    "        print(\"input berupa angka !!\")"
   ]
  },
  {
   "cell_type": "markdown",
   "metadata": {},
   "source": [
    "ASSIGNMENT"
   ]
  },
  {
   "cell_type": "code",
   "execution_count": null,
   "metadata": {},
   "outputs": [],
   "source": [
    "def tambah(a,b):\n",
    "    hasil = a + b\n",
    "    return hasil\n",
    "\n",
    "def kurang(a,b):\n",
    "    return a - b\n",
    "\n",
    "def kali(a,b):\n",
    "    return a * b\n",
    "\n",
    "def bagi(a,b):\n",
    "    return a / b\n",
    "\n",
    "while True:\n",
    "    print(\"silahkan memilih menu : \")\n",
    "    print(\"1. penjumlahan\")\n",
    "    print(\"2. pengurangan\")\n",
    "    print(\"3. perkalian\")\n",
    "    print(\"4. pembagian\")\n",
    "    \n",
    "    pilih = int(input(\"masukkan pilihan : \"))\n",
    "    \n",
    "    if pilih == 1:\n",
    "        angka1 = int(input(\"masukan angka 1 : \"))\n",
    "        angka2 = int(input(\"masukan angka 2 : \"))\n",
    "        hasil = tambah(angka1, angka2)\n",
    "        print(hasil)\n",
    "    elif pilih == 2:\n",
    "        angka1 = int(input(\"masukan angka 1 : \"))\n",
    "        angka2 = int(input(\"masukan angka 2 : \"))\n",
    "        hasil = kurang(angka1, angka2)\n",
    "        print(hasil)\n",
    "    elif pilih == 3:\n",
    "        angka1 = int(input(\"masukan angka 1 : \"))\n",
    "        angka2 = int(input(\"masukan angka 2 : \"))\n",
    "        hasil = kali(angka1, angka2)\n",
    "        print(hasil)\n",
    "    elif pilih == 4:\n",
    "        angka1 = int(input(\"masukan angka 1 : \"))\n",
    "        angka2 = int(input(\"masukan angka 2 : \"))\n",
    "        hasil = bagi(angka1, angka2)\n",
    "        print(hasil)\n",
    "    \n",
    "    kondisi = input(\"masih ingin memilih ? \")\n",
    "    \n",
    "    if kondisi == \"tidak\":\n",
    "        break\n",
    "\n",
    "print(\"Terimakasih, selamat datang kembali !\")\n",
    "        "
   ]
  }
 ],
 "metadata": {
  "kernelspec": {
   "display_name": "Python 3",
   "language": "python",
   "name": "python3"
  },
  "language_info": {
   "codemirror_mode": {
    "name": "ipython",
    "version": 3
   },
   "file_extension": ".py",
   "mimetype": "text/x-python",
   "name": "python",
   "nbconvert_exporter": "python",
   "pygments_lexer": "ipython3",
   "version": "3.12.5"
  }
 },
 "nbformat": 4,
 "nbformat_minor": 2
}
