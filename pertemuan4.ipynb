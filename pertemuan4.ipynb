{
 "cells": [
  {
   "cell_type": "markdown",
   "metadata": {},
   "source": [
    "LOOPING"
   ]
  },
  {
   "cell_type": "code",
   "execution_count": 1,
   "metadata": {},
   "outputs": [
    {
     "name": "stdout",
     "output_type": "stream",
     "text": [
      "koding akademi\n",
      "koding akademi\n",
      "koding akademi\n",
      "koding akademi\n"
     ]
    }
   ],
   "source": [
    "print(\"koding akademi\")\n",
    "print(\"koding akademi\")\n",
    "print(\"koding akademi\")\n",
    "print(\"koding akademi\")"
   ]
  },
  {
   "cell_type": "markdown",
   "metadata": {},
   "source": [
    "FOR LOOPS"
   ]
  },
  {
   "cell_type": "code",
   "execution_count": 5,
   "metadata": {},
   "outputs": [
    {
     "name": "stdout",
     "output_type": "stream",
     "text": [
      "0\n",
      "koding akademi\n",
      "1\n",
      "koding akademi\n",
      "2\n",
      "koding akademi\n",
      "3\n",
      "koding akademi\n"
     ]
    }
   ],
   "source": [
    "for i in range(4): # i = 2\n",
    "    print(i)\n",
    "    print(\"koding akademi\")"
   ]
  },
  {
   "cell_type": "code",
   "execution_count": 6,
   "metadata": {},
   "outputs": [
    {
     "name": "stdout",
     "output_type": "stream",
     "text": [
      "1\n",
      "2\n",
      "3\n",
      "4\n"
     ]
    }
   ],
   "source": [
    "for i in range(1, 5): # (start, batas)\n",
    "    print(i)"
   ]
  },
  {
   "cell_type": "code",
   "execution_count": 7,
   "metadata": {},
   "outputs": [
    {
     "name": "stdout",
     "output_type": "stream",
     "text": [
      "1\n",
      "3\n"
     ]
    }
   ],
   "source": [
    "for i in range(1, 5, 2): # (start, batas, langkah)\n",
    "    print(i)"
   ]
  },
  {
   "cell_type": "code",
   "execution_count": 16,
   "metadata": {},
   "outputs": [
    {
     "name": "stdout",
     "output_type": "stream",
     "text": [
      "a\n",
      "g\n"
     ]
    }
   ],
   "source": [
    "nama = \"agung\"\n",
    "\n",
    "print(nama[0])\n",
    "print(nama[1])"
   ]
  },
  {
   "cell_type": "code",
   "execution_count": 17,
   "metadata": {},
   "outputs": [
    {
     "name": "stdout",
     "output_type": "stream",
     "text": [
      "a\n",
      "g\n",
      "u\n",
      "n\n",
      "g\n"
     ]
    }
   ],
   "source": [
    "nama = \"agung\"\n",
    "\n",
    "# foreach\n",
    "for i in nama:\n",
    "    print(i)"
   ]
  },
  {
   "cell_type": "code",
   "execution_count": 19,
   "metadata": {},
   "outputs": [
    {
     "name": "stdout",
     "output_type": "stream",
     "text": [
      "g\n",
      "u\n",
      "n\n",
      "g\n"
     ]
    }
   ],
   "source": [
    "nama = \"agung\"\n",
    "\n",
    "# for\n",
    "for i in range(0, 5): \n",
    "    print(nama[i])\n",
    "    "
   ]
  },
  {
   "cell_type": "markdown",
   "metadata": {},
   "source": [
    "WHILE LOOPS"
   ]
  },
  {
   "cell_type": "code",
   "execution_count": 21,
   "metadata": {},
   "outputs": [],
   "source": [
    "while False:\n",
    "    print(\"koding akademi\")"
   ]
  },
  {
   "cell_type": "code",
   "execution_count": 24,
   "metadata": {},
   "outputs": [
    {
     "name": "stdout",
     "output_type": "stream",
     "text": [
      "admin\n"
     ]
    }
   ],
   "source": [
    "username = \"admin\" # user\n",
    "\n",
    "while username == \"admin\": # false\n",
    "    print(username)\n",
    "    username = \"user\""
   ]
  },
  {
   "cell_type": "code",
   "execution_count": 26,
   "metadata": {},
   "outputs": [
    {
     "name": "stdout",
     "output_type": "stream",
     "text": [
      "admin\n"
     ]
    }
   ],
   "source": [
    "username = \"admin\" # user\n",
    "\n",
    "while username == \"admin\": # false\n",
    "    print(username)\n",
    "    break"
   ]
  },
  {
   "cell_type": "code",
   "execution_count": 29,
   "metadata": {},
   "outputs": [
    {
     "name": "stdout",
     "output_type": "stream",
     "text": [
      "hello\n"
     ]
    }
   ],
   "source": [
    "while True:\n",
    "    break\n",
    "\n",
    "print(\"hello\")"
   ]
  },
  {
   "cell_type": "code",
   "execution_count": 30,
   "metadata": {},
   "outputs": [
    {
     "name": "stdout",
     "output_type": "stream",
     "text": [
      "pilih menu : \n",
      "1. nasi goreng\n",
      "2. sate ayam\n",
      "3. keluar\n",
      "nasi goreng\n",
      "pilih menu : \n",
      "1. nasi goreng\n",
      "2. sate ayam\n",
      "3. keluar\n",
      "sate ayam\n",
      "pilih menu : \n",
      "1. nasi goreng\n",
      "2. sate ayam\n",
      "3. keluar\n",
      "sate ayam\n",
      "pilih menu : \n",
      "1. nasi goreng\n",
      "2. sate ayam\n",
      "3. keluar\n",
      "sistem keluar !!\n"
     ]
    }
   ],
   "source": [
    "while True:\n",
    "    print(\"pilih menu : \")\n",
    "    print(\"1. nasi goreng\")\n",
    "    print(\"2. sate ayam\")\n",
    "    print(\"3. keluar\")\n",
    "    \n",
    "    kondisi = input(\"pilih menu : \")\n",
    "    \n",
    "    if kondisi == \"1\":\n",
    "        print(\"nasi goreng\")\n",
    "    elif kondisi == \"2\":\n",
    "        print(\"sate ayam\")\n",
    "    elif kondisi == \"3\":\n",
    "        print(\"sistem keluar !!\")\n",
    "        break\n",
    "    else:\n",
    "        print(\"inputan salah !\")\n",
    "    "
   ]
  },
  {
   "cell_type": "code",
   "execution_count": 31,
   "metadata": {},
   "outputs": [
    {
     "name": "stdout",
     "output_type": "stream",
     "text": [
      "0\n",
      "1\n",
      "2\n",
      "3\n",
      "4\n"
     ]
    }
   ],
   "source": [
    "count = 0 # 1\n",
    "\n",
    "while count < 5:\n",
    "    print(count)\n",
    "    count += 1"
   ]
  },
  {
   "cell_type": "code",
   "execution_count": 39,
   "metadata": {},
   "outputs": [
    {
     "name": "stdout",
     "output_type": "stream",
     "text": [
      "36\n"
     ]
    }
   ],
   "source": [
    "angka = 10\n",
    "total = 0\n",
    "\n",
    "while True:\n",
    "    total += angka # total = 0 + 10 + 12 + 14\n",
    "    angka += 2\n",
    "    \n",
    "    if angka >= 30 or total >= 30:\n",
    "        break\n",
    "\n",
    "print(total)\n",
    "\n"
   ]
  },
  {
   "cell_type": "code",
   "execution_count": 34,
   "metadata": {},
   "outputs": [
    {
     "name": "stdout",
     "output_type": "stream",
     "text": [
      "ini angka 20\n"
     ]
    }
   ],
   "source": [
    "data = [10,20,30]\n",
    "\n",
    "for i in data:\n",
    "    if i == 20:\n",
    "        print(\"ini angka 20\")"
   ]
  },
  {
   "cell_type": "code",
   "execution_count": 43,
   "metadata": {},
   "outputs": [
    {
     "name": "stdout",
     "output_type": "stream",
     "text": [
      "7.6\n"
     ]
    }
   ],
   "source": [
    "total = 0\n",
    "n = 0\n",
    "\n",
    "while True:\n",
    "    angka = int(input(\"angka : \"))\n",
    "    total += angka\n",
    "    n += 1\n",
    "    if n == 5:\n",
    "        break\n",
    "\n",
    "print(total / n)"
   ]
  },
  {
   "cell_type": "code",
   "execution_count": null,
   "metadata": {},
   "outputs": [],
   "source": [
    "total = 0\n",
    "\n",
    "for i in range(5):\n",
    "    angka = int(input(\"angka : \"))\n",
    "    total += angka\n",
    "    \n",
    "print(total / n)"
   ]
  },
  {
   "cell_type": "code",
   "execution_count": 44,
   "metadata": {},
   "outputs": [
    {
     "name": "stdout",
     "output_type": "stream",
     "text": [
      "* * * * *\n",
      "* * * * *\n",
      "* * * * *\n",
      "* * * * *\n",
      "* * * * *\n"
     ]
    }
   ],
   "source": [
    "for i in range(5):\n",
    "    print(\"* * * * *\")"
   ]
  },
  {
   "cell_type": "code",
   "execution_count": 47,
   "metadata": {},
   "outputs": [
    {
     "name": "stdout",
     "output_type": "stream",
     "text": [
      "\n",
      "*\n",
      "**\n",
      "***\n",
      "****\n",
      "*****\n"
     ]
    }
   ],
   "source": [
    "for i in range(6):\n",
    "    print(\"*\" * i)"
   ]
  },
  {
   "cell_type": "code",
   "execution_count": 55,
   "metadata": {},
   "outputs": [
    {
     "name": "stdout",
     "output_type": "stream",
     "text": [
      "* * * * * \n",
      "* * * * * \n",
      "* * * * * \n",
      "* * * * * \n",
      "* * * * * \n"
     ]
    }
   ],
   "source": [
    "for i in range(5): \n",
    "    for x in range(5): \n",
    "        print(\"* \", end = \"\")\n",
    "    print(\"\")"
   ]
  },
  {
   "cell_type": "code",
   "execution_count": 58,
   "metadata": {},
   "outputs": [
    {
     "name": "stdout",
     "output_type": "stream",
     "text": [
      "\n",
      "* \n",
      "* * \n",
      "* * * \n",
      "* * * * \n",
      "* * * * * \n"
     ]
    }
   ],
   "source": [
    "for i in range(5):\n",
    "    for x in range(i):\n",
    "        if i >= x: \n",
    "            print(\"* \", end = \"\")\n",
    "    print(\"\")"
   ]
  },
  {
   "cell_type": "code",
   "execution_count": null,
   "metadata": {},
   "outputs": [],
   "source": []
  }
 ],
 "metadata": {
  "kernelspec": {
   "display_name": "Python 3",
   "language": "python",
   "name": "python3"
  },
  "language_info": {
   "codemirror_mode": {
    "name": "ipython",
    "version": 3
   },
   "file_extension": ".py",
   "mimetype": "text/x-python",
   "name": "python",
   "nbconvert_exporter": "python",
   "pygments_lexer": "ipython3",
   "version": "3.12.5"
  }
 },
 "nbformat": 4,
 "nbformat_minor": 2
}
