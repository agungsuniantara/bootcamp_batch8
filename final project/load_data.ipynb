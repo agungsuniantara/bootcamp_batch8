{
 "cells": [
  {
   "cell_type": "code",
   "execution_count": 8,
   "metadata": {},
   "outputs": [
    {
     "ename": "ImportError",
     "evalue": "cannot import name 'read_pdf' from 'tabula' (/Library/Frameworks/Python.framework/Versions/3.12/lib/python3.12/site-packages/tabula/__init__.py)",
     "output_type": "error",
     "traceback": [
      "\u001b[0;31m---------------------------------------------------------------------------\u001b[0m",
      "\u001b[0;31mImportError\u001b[0m                               Traceback (most recent call last)",
      "Cell \u001b[0;32mIn[8], line 1\u001b[0m\n\u001b[0;32m----> 1\u001b[0m \u001b[38;5;28;01mfrom\u001b[39;00m \u001b[38;5;21;01mtabula\u001b[39;00m \u001b[38;5;28;01mimport\u001b[39;00m read_pdf\n\u001b[1;32m      3\u001b[0m \u001b[38;5;66;03m# Extract tables from the PDF\u001b[39;00m\n\u001b[1;32m      4\u001b[0m tables \u001b[38;5;241m=\u001b[39m read_pdf(\u001b[38;5;124m\"\u001b[39m\u001b[38;5;124mbri.pdf\u001b[39m\u001b[38;5;124m\"\u001b[39m, pages\u001b[38;5;241m=\u001b[39m\u001b[38;5;124m\"\u001b[39m\u001b[38;5;124mall\u001b[39m\u001b[38;5;124m\"\u001b[39m, multiple_tables\u001b[38;5;241m=\u001b[39m\u001b[38;5;28;01mTrue\u001b[39;00m)\n",
      "\u001b[0;31mImportError\u001b[0m: cannot import name 'read_pdf' from 'tabula' (/Library/Frameworks/Python.framework/Versions/3.12/lib/python3.12/site-packages/tabula/__init__.py)"
     ]
    }
   ],
   "source": [
    "from tabula import read_pdf\n",
    "\n",
    "# Extract tables from the PDF\n",
    "tables = read_pdf(\"bri.pdf\", pages=\"all\", multiple_tables=True)\n",
    "tables\n",
    "\n",
    "# Print the extracted tables\n",
    "for i, table in enumerate(tables):\n",
    "    table.to_csv(f\"data/tabel {i}\", index = False)"
   ]
  },
  {
   "cell_type": "code",
   "execution_count": null,
   "metadata": {},
   "outputs": [],
   "source": []
  }
 ],
 "metadata": {
  "kernelspec": {
   "display_name": "Python 3",
   "language": "python",
   "name": "python3"
  },
  "language_info": {
   "codemirror_mode": {
    "name": "ipython",
    "version": 3
   },
   "file_extension": ".py",
   "mimetype": "text/x-python",
   "name": "python",
   "nbconvert_exporter": "python",
   "pygments_lexer": "ipython3",
   "version": "3.12.5"
  }
 },
 "nbformat": 4,
 "nbformat_minor": 2
}
