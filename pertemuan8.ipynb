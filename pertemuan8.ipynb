{
 "cells": [
  {
   "cell_type": "markdown",
   "metadata": {},
   "source": [
    "FUNCTION LAMBDA"
   ]
  },
  {
   "cell_type": "code",
   "execution_count": 1,
   "metadata": {},
   "outputs": [
    {
     "name": "stdout",
     "output_type": "stream",
     "text": [
      "agung\n"
     ]
    }
   ],
   "source": [
    "def tampil(a):\n",
    "    print(a)\n",
    "\n",
    "tampil(\"agung\")"
   ]
  },
  {
   "cell_type": "code",
   "execution_count": 4,
   "metadata": {},
   "outputs": [
    {
     "name": "stdout",
     "output_type": "stream",
     "text": [
      "30\n"
     ]
    }
   ],
   "source": [
    "tambah = lambda a,b: a + b\n",
    "print(tambah(10,20))"
   ]
  },
  {
   "cell_type": "markdown",
   "metadata": {},
   "source": [
    "ASSIGNMENT"
   ]
  },
  {
   "cell_type": "code",
   "execution_count": 15,
   "metadata": {},
   "outputs": [
    {
     "name": "stdout",
     "output_type": "stream",
     "text": [
      "5.5\n"
     ]
    }
   ],
   "source": [
    "def tambah(*a): \n",
    "    hasil = 0 \n",
    "    for i in a: \n",
    "        hasil = hasil + i \n",
    "        \n",
    "    return hasil\n",
    "\n",
    "total = tambah(1,2,3,4,5,6,7,8,9,10)\n",
    "\n",
    "rata = (lambda a: a / 10)(total)\n",
    "\n",
    "print(rata)"
   ]
  },
  {
   "cell_type": "markdown",
   "metadata": {},
   "source": [
    "PANDAS"
   ]
  },
  {
   "cell_type": "markdown",
   "metadata": {},
   "source": [
    "PANDAS SERIES = DATA HANYA BERUPA ROW (BARIS)\n",
    "\n",
    "PANDAS DATAFRAME = DATA YANG BERUPA BARIS DAN KOLOM"
   ]
  },
  {
   "cell_type": "code",
   "execution_count": 19,
   "metadata": {},
   "outputs": [
    {
     "name": "stdout",
     "output_type": "stream",
     "text": [
      "0    apple\n",
      "1        2\n",
      "2        3\n",
      "3        4\n",
      "dtype: object\n",
      "       0\n",
      "0  apple\n",
      "1      2\n",
      "2      3\n",
      "3      4\n"
     ]
    }
   ],
   "source": [
    "import pandas as pd \n",
    "\n",
    "data = [\"apple\",2,3,4]\n",
    "\n",
    "series = pd.Series(data)\n",
    "dataframe = pd.DataFrame(data)\n",
    "\n",
    "print(series)\n",
    "print(dataframe)"
   ]
  },
  {
   "cell_type": "markdown",
   "metadata": {},
   "source": [
    "PANDAS SERIES"
   ]
  },
  {
   "cell_type": "code",
   "execution_count": 23,
   "metadata": {},
   "outputs": [
    {
     "data": {
      "text/plain": [
       "satu    1\n",
       "dua     2\n",
       "tiga    3\n",
       "dtype: object"
      ]
     },
     "execution_count": 23,
     "metadata": {},
     "output_type": "execute_result"
    }
   ],
   "source": [
    "data = [\"1\",\"2\",\"3\"]\n",
    "\n",
    "series = pd.Series(data, index = [\"satu\", \"dua\", \"tiga\"])\n",
    "series\n"
   ]
  },
  {
   "cell_type": "code",
   "execution_count": 24,
   "metadata": {},
   "outputs": [
    {
     "data": {
      "text/plain": [
       "satu    1\n",
       "dua     2\n",
       "tiga    3\n",
       "dtype: int64"
      ]
     },
     "execution_count": 24,
     "metadata": {},
     "output_type": "execute_result"
    }
   ],
   "source": [
    "data = {\n",
    "    \"satu\" : 1,\n",
    "    \"dua\" : 2,\n",
    "    \"tiga\" : 3\n",
    "}\n",
    "series = pd.Series(data)\n",
    "series"
   ]
  },
  {
   "cell_type": "code",
   "execution_count": 27,
   "metadata": {},
   "outputs": [
    {
     "name": "stdout",
     "output_type": "stream",
     "text": [
      "satu    1\n",
      "dua     2\n",
      "tiga    3\n",
      "dtype: object\n",
      "1\n",
      "2\n"
     ]
    }
   ],
   "source": [
    "data = [\"1\",\"2\",\"3\"]\n",
    "\n",
    "series = pd.Series(data, index = [\"satu\", \"dua\", \"tiga\"])\n",
    "\n",
    "print(series)\n",
    "print(series[\"satu\"])\n",
    "print(series[\"dua\"])"
   ]
  },
  {
   "cell_type": "code",
   "execution_count": 29,
   "metadata": {},
   "outputs": [
    {
     "name": "stdout",
     "output_type": "stream",
     "text": [
      "0    1\n",
      "1    2\n",
      "2    3\n",
      "3    4\n",
      "dtype: int64\n"
     ]
    }
   ],
   "source": [
    "data = [1,2,3,4,5]\n",
    "\n",
    "series = pd.Series(data)\n",
    "\n",
    "print(series[0:4])"
   ]
  },
  {
   "cell_type": "markdown",
   "metadata": {},
   "source": [
    "LOC & ILOC"
   ]
  },
  {
   "cell_type": "code",
   "execution_count": 36,
   "metadata": {},
   "outputs": [
    {
     "name": "stdout",
     "output_type": "stream",
     "text": [
      "0    1\n",
      "1    2\n",
      "2    3\n",
      "3    4\n",
      "4    5\n",
      "dtype: int64\n",
      "satu     1\n",
      "dua      2\n",
      "tiga     3\n",
      "empat    4\n",
      "dtype: int64\n",
      "satu     1\n",
      "dua      2\n",
      "tiga     3\n",
      "empat    4\n",
      "dtype: int64\n"
     ]
    }
   ],
   "source": [
    "data = [1,2,3,4,5]\n",
    "\n",
    "series1 = pd.Series(data)\n",
    "series2 = pd.Series(data, index = [\"satu\", \"dua\", \"tiga\", \"empat\", \"lima\"])\n",
    "\n",
    "# LOC (tanpa menggunakan batas)\n",
    "\n",
    "print(series1.loc[0 : 4])\n",
    "print(series2.loc[\"satu\" : \"empat\"])\n",
    "\n",
    "# ILOC (menggunakan batas)\n",
    "\n",
    "print(series2.iloc[0 : 4])"
   ]
  },
  {
   "cell_type": "code",
   "execution_count": 39,
   "metadata": {},
   "outputs": [
    {
     "name": "stdout",
     "output_type": "stream",
     "text": [
      "0    1\n",
      "1    2\n",
      "2    3\n",
      "3    4\n",
      "4    5\n",
      "dtype: int64\n",
      "[1 2 3 4 5]\n"
     ]
    }
   ],
   "source": [
    "print(series1)\n",
    "print(series1.values)"
   ]
  },
  {
   "cell_type": "markdown",
   "metadata": {},
   "source": [
    "CONDITIONAL SELECTION"
   ]
  },
  {
   "cell_type": "code",
   "execution_count": 40,
   "metadata": {},
   "outputs": [
    {
     "data": {
      "text/plain": [
       "0    2000\n",
       "1    3000\n",
       "2    1000\n",
       "3    5000\n",
       "4    3500\n",
       "dtype: int64"
      ]
     },
     "execution_count": 40,
     "metadata": {},
     "output_type": "execute_result"
    }
   ],
   "source": [
    "data = [2000,3000,1000,5000,3500]\n",
    "\n",
    "series = pd.Series(data)\n",
    "series"
   ]
  },
  {
   "cell_type": "markdown",
   "metadata": {},
   "source": [
    "SERIES OPERATOR LOGIKA & PERBANDINGAN"
   ]
  },
  {
   "cell_type": "code",
   "execution_count": 42,
   "metadata": {},
   "outputs": [
    {
     "data": {
      "text/plain": [
       "0    False\n",
       "1     True\n",
       "2    False\n",
       "3     True\n",
       "4     True\n",
       "dtype: bool"
      ]
     },
     "execution_count": 42,
     "metadata": {},
     "output_type": "execute_result"
    }
   ],
   "source": [
    "series > 2000"
   ]
  },
  {
   "cell_type": "code",
   "execution_count": 44,
   "metadata": {},
   "outputs": [
    {
     "data": {
      "text/plain": [
       "1    3000\n",
       "3    5000\n",
       "4    3500\n",
       "dtype: int64"
      ]
     },
     "execution_count": 44,
     "metadata": {},
     "output_type": "execute_result"
    }
   ],
   "source": [
    "series[series > 2000]"
   ]
  },
  {
   "cell_type": "code",
   "execution_count": 45,
   "metadata": {},
   "outputs": [
    {
     "data": {
      "text/plain": [
       "1    3000\n",
       "dtype: int64"
      ]
     },
     "execution_count": 45,
     "metadata": {},
     "output_type": "execute_result"
    }
   ],
   "source": [
    "series[(series > 2000) & (series < 3500)]"
   ]
  },
  {
   "cell_type": "markdown",
   "metadata": {},
   "source": [
    "SERIES OPERATOR ARITMATIKA"
   ]
  },
  {
   "cell_type": "code",
   "execution_count": 56,
   "metadata": {},
   "outputs": [
    {
     "data": {
      "text/plain": [
       "0    2000\n",
       "1    3000\n",
       "2    1000\n",
       "3    5000\n",
       "4    3500\n",
       "dtype: int64"
      ]
     },
     "execution_count": 56,
     "metadata": {},
     "output_type": "execute_result"
    }
   ],
   "source": [
    "data = [2000,3000,1000,5000,3500]\n",
    "\n",
    "series = pd.Series(data)\n",
    "series"
   ]
  },
  {
   "cell_type": "code",
   "execution_count": 58,
   "metadata": {},
   "outputs": [],
   "source": [
    "series = series + 1000"
   ]
  },
  {
   "cell_type": "code",
   "execution_count": 59,
   "metadata": {},
   "outputs": [
    {
     "data": {
      "text/plain": [
       "0    3000\n",
       "1    4000\n",
       "2    2000\n",
       "3    6000\n",
       "4    4500\n",
       "dtype: int64"
      ]
     },
     "execution_count": 59,
     "metadata": {},
     "output_type": "execute_result"
    }
   ],
   "source": [
    "series"
   ]
  },
  {
   "cell_type": "code",
   "execution_count": 72,
   "metadata": {},
   "outputs": [
    {
     "name": "stdout",
     "output_type": "stream",
     "text": [
      "0    3000\n",
      "1    5000\n",
      "2    4000\n",
      "3    9000\n",
      "4    8500\n",
      "dtype: int64\n"
     ]
    }
   ],
   "source": [
    "data1 = [2000,3000,1000,5000,3500]\n",
    "data2 = [1000,2000,3000,4000,5000]\n",
    "\n",
    "series1 = pd.Series(data1)\n",
    "series2 = pd.Series(data2)\n",
    "\n",
    "hasil = series1 + series2\n",
    "print(hasil)"
   ]
  },
  {
   "cell_type": "code",
   "execution_count": 74,
   "metadata": {},
   "outputs": [
    {
     "name": "stdout",
     "output_type": "stream",
     "text": [
      "0    3000\n",
      "1    5000\n",
      "2    4000\n",
      "3    9000\n",
      "4    8500\n",
      "dtype: int64\n",
      "0    1000\n",
      "1    1000\n",
      "2   -2000\n",
      "3    1000\n",
      "4   -1500\n",
      "dtype: int64\n",
      "14500\n",
      "2900.0\n"
     ]
    }
   ],
   "source": [
    "data1 = [2000,3000,1000,5000,3500]\n",
    "\n",
    "series1 = pd.Series(data1)\n",
    "\n",
    "tambah = series1.add(series2)\n",
    "kurang = series1.subtract(series2)\n",
    "sum = series1.sum()\n",
    "rata = series1.mean()\n",
    "\n",
    "print(tambah)\n",
    "print(kurang)\n",
    "print(sum)\n",
    "print(rata)"
   ]
  },
  {
   "cell_type": "code",
   "execution_count": 68,
   "metadata": {},
   "outputs": [
    {
     "name": "stdout",
     "output_type": "stream",
     "text": [
      "0    2000\n",
      "1    3000\n",
      "2    1000\n",
      "3    5000\n",
      "4    3500\n",
      "dtype: int64\n",
      "0    2000.0\n",
      "1    3000.0\n",
      "2    1000.0\n",
      "3    5000.0\n",
      "4    3500.0\n",
      "dtype: float64\n"
     ]
    }
   ],
   "source": [
    "data1 = [2000,3000,1000,5000,3500]\n",
    "\n",
    "series1 = pd.Series(data1)\n",
    "\n",
    "print(series1)\n",
    "\n",
    "series1 = series1.astype(float)\n",
    "\n",
    "print(series1)"
   ]
  },
  {
   "cell_type": "code",
   "execution_count": 70,
   "metadata": {},
   "outputs": [
    {
     "name": "stdout",
     "output_type": "stream",
     "text": [
      "0    2000\n",
      "1    3000\n",
      "2    1000\n",
      "3    5000\n",
      "4    3500\n",
      "dtype: int64\n",
      "0    10000\n",
      "1     3000\n",
      "2     1000\n",
      "3     5000\n",
      "4     3500\n",
      "dtype: int64\n"
     ]
    }
   ],
   "source": [
    "data1 = [2000,3000,1000,5000,3500]\n",
    "\n",
    "series1 = pd.Series(data1)\n",
    "\n",
    "print(series1)\n",
    "\n",
    "series1[0] = 10000\n",
    "\n",
    "print(series1)\n"
   ]
  },
  {
   "cell_type": "markdown",
   "metadata": {},
   "source": [
    "ASSIGNMENT"
   ]
  },
  {
   "cell_type": "code",
   "execution_count": 77,
   "metadata": {},
   "outputs": [
    {
     "data": {
      "text/plain": [
       "januari     408\n",
       "februari    943\n",
       "maret       902\n",
       "dtype: int64"
      ]
     },
     "execution_count": 77,
     "metadata": {},
     "output_type": "execute_result"
    }
   ],
   "source": [
    "data = [408, 943, 902]\n",
    "series = pd.Series(data, index = [\"januari\", \"februari\", \"maret\"])\n",
    "series"
   ]
  },
  {
   "cell_type": "code",
   "execution_count": 79,
   "metadata": {},
   "outputs": [
    {
     "name": "stdout",
     "output_type": "stream",
     "text": [
      "751.0\n"
     ]
    }
   ],
   "source": [
    "rata = series.mean()\n",
    "print(rata)"
   ]
  },
  {
   "cell_type": "code",
   "execution_count": 83,
   "metadata": {},
   "outputs": [
    {
     "name": "stdout",
     "output_type": "stream",
     "text": [
      "januari     408\n",
      "februari    751\n",
      "maret       751\n",
      "dtype: int64\n"
     ]
    }
   ],
   "source": [
    "series[series > rata] = rata\n",
    "\n",
    "print(series)"
   ]
  },
  {
   "cell_type": "code",
   "execution_count": null,
   "metadata": {},
   "outputs": [],
   "source": []
  }
 ],
 "metadata": {
  "kernelspec": {
   "display_name": "Python 3",
   "language": "python",
   "name": "python3"
  },
  "language_info": {
   "codemirror_mode": {
    "name": "ipython",
    "version": 3
   },
   "file_extension": ".py",
   "mimetype": "text/x-python",
   "name": "python",
   "nbconvert_exporter": "python",
   "pygments_lexer": "ipython3",
   "version": "3.12.5"
  }
 },
 "nbformat": 4,
 "nbformat_minor": 2
}
