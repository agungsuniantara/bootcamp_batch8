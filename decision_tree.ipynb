{
 "cells": [
  {
   "cell_type": "code",
   "execution_count": 16,
   "metadata": {},
   "outputs": [
    {
     "data": {
      "text/html": [
       "<div>\n",
       "<style scoped>\n",
       "    .dataframe tbody tr th:only-of-type {\n",
       "        vertical-align: middle;\n",
       "    }\n",
       "\n",
       "    .dataframe tbody tr th {\n",
       "        vertical-align: top;\n",
       "    }\n",
       "\n",
       "    .dataframe thead th {\n",
       "        text-align: right;\n",
       "    }\n",
       "</style>\n",
       "<table border=\"1\" class=\"dataframe\">\n",
       "  <thead>\n",
       "    <tr style=\"text-align: right;\">\n",
       "      <th></th>\n",
       "      <th>Cause</th>\n",
       "      <th>Type</th>\n",
       "      <th>Year</th>\n",
       "      <th>Data Redundancy</th>\n",
       "      <th>Total Deaths</th>\n",
       "      <th>Source</th>\n",
       "      <th>Page at Source</th>\n",
       "      <th>Source URL</th>\n",
       "    </tr>\n",
       "  </thead>\n",
       "  <tbody>\n",
       "    <tr>\n",
       "      <th>0</th>\n",
       "      <td>Abrasi Air Laut</td>\n",
       "      <td>Bencana Alam</td>\n",
       "      <td>2012</td>\n",
       "      <td>1</td>\n",
       "      <td>0</td>\n",
       "      <td>Profil Kesehatan Indonesia Tahun 2012</td>\n",
       "      <td>Lampiran 3.38</td>\n",
       "      <td>https://pusdatin.kemkes.go.id/download.php?fil...</td>\n",
       "    </tr>\n",
       "    <tr>\n",
       "      <th>1</th>\n",
       "      <td>AIDS</td>\n",
       "      <td>Bencana Non Alam dan Penyakit</td>\n",
       "      <td>2000</td>\n",
       "      <td>1</td>\n",
       "      <td>47</td>\n",
       "      <td>Profil Kesehatan Indonesia Tahun 2004</td>\n",
       "      <td>78</td>\n",
       "      <td>https://pusdatin.kemkes.go.id/download.php?fil...</td>\n",
       "    </tr>\n",
       "    <tr>\n",
       "      <th>2</th>\n",
       "      <td>AIDS</td>\n",
       "      <td>Bencana Non Alam dan Penyakit</td>\n",
       "      <td>2001</td>\n",
       "      <td>1</td>\n",
       "      <td>99</td>\n",
       "      <td>Profil Kesehatan Indonesia Tahun 2004</td>\n",
       "      <td>78</td>\n",
       "      <td>https://pusdatin.kemkes.go.id/download.php?fil...</td>\n",
       "    </tr>\n",
       "    <tr>\n",
       "      <th>3</th>\n",
       "      <td>AIDS</td>\n",
       "      <td>Bencana Non Alam dan Penyakit</td>\n",
       "      <td>2002</td>\n",
       "      <td>1</td>\n",
       "      <td>100</td>\n",
       "      <td>Profil Kesehatan Indonesia Tahun 2004</td>\n",
       "      <td>78</td>\n",
       "      <td>https://pusdatin.kemkes.go.id/download.php?fil...</td>\n",
       "    </tr>\n",
       "    <tr>\n",
       "      <th>4</th>\n",
       "      <td>AIDS</td>\n",
       "      <td>Bencana Non Alam dan Penyakit</td>\n",
       "      <td>2003</td>\n",
       "      <td>1</td>\n",
       "      <td>261</td>\n",
       "      <td>Profil Kesehatan Indonesia Tahun 2010</td>\n",
       "      <td>115</td>\n",
       "      <td>https://pusdatin.kemkes.go.id/download.php?fil...</td>\n",
       "    </tr>\n",
       "  </tbody>\n",
       "</table>\n",
       "</div>"
      ],
      "text/plain": [
       "             Cause                           Type  Year  Data Redundancy  \\\n",
       "0  Abrasi Air Laut                   Bencana Alam  2012                1   \n",
       "1             AIDS  Bencana Non Alam dan Penyakit  2000                1   \n",
       "2             AIDS  Bencana Non Alam dan Penyakit  2001                1   \n",
       "3             AIDS  Bencana Non Alam dan Penyakit  2002                1   \n",
       "4             AIDS  Bencana Non Alam dan Penyakit  2003                1   \n",
       "\n",
       "   Total Deaths                                 Source Page at Source  \\\n",
       "0             0  Profil Kesehatan Indonesia Tahun 2012  Lampiran 3.38   \n",
       "1            47  Profil Kesehatan Indonesia Tahun 2004             78   \n",
       "2            99  Profil Kesehatan Indonesia Tahun 2004             78   \n",
       "3           100  Profil Kesehatan Indonesia Tahun 2004             78   \n",
       "4           261  Profil Kesehatan Indonesia Tahun 2010            115   \n",
       "\n",
       "                                          Source URL  \n",
       "0  https://pusdatin.kemkes.go.id/download.php?fil...  \n",
       "1  https://pusdatin.kemkes.go.id/download.php?fil...  \n",
       "2  https://pusdatin.kemkes.go.id/download.php?fil...  \n",
       "3  https://pusdatin.kemkes.go.id/download.php?fil...  \n",
       "4  https://pusdatin.kemkes.go.id/download.php?fil...  "
      ]
     },
     "execution_count": 16,
     "metadata": {},
     "output_type": "execute_result"
    }
   ],
   "source": [
    "import pandas as pd \n",
    "from sklearn.preprocessing import MinMaxScaler\n",
    "from sklearn.tree import DecisionTreeRegressor\n",
    "\n",
    "df = pd.read_csv(\"death_clean.csv\")\n",
    "df.head()"
   ]
  },
  {
   "cell_type": "code",
   "execution_count": 17,
   "metadata": {},
   "outputs": [
    {
     "data": {
      "text/plain": [
       "Cause              0\n",
       "Type               0\n",
       "Year               0\n",
       "Data Redundancy    0\n",
       "Total Deaths       0\n",
       "Source             0\n",
       "Page at Source     0\n",
       "Source URL         0\n",
       "dtype: int64"
      ]
     },
     "execution_count": 17,
     "metadata": {},
     "output_type": "execute_result"
    }
   ],
   "source": [
    "df.isnull().sum()"
   ]
  },
  {
   "cell_type": "code",
   "execution_count": 18,
   "metadata": {},
   "outputs": [],
   "source": [
    "from sklearn.model_selection import train_test_split\n",
    "\n",
    "x = df[[\"Cause\", \"Type\"]] \n",
    "y = df[[\"Total Deaths\"]]\n",
    "\n",
    "x_encoded = pd.get_dummies(x, columns=[\"Cause\", \"Type\"])\n",
    "\n",
    "scaler = MinMaxScaler()\n",
    "y_norm = scaler.fit_transform(y).ravel()\n",
    "\n",
    "x_train, x_test, y_train, y_test = train_test_split(x_encoded, y_norm, test_size=0.3, random_state=42)\n"
   ]
  },
  {
   "cell_type": "code",
   "execution_count": 19,
   "metadata": {},
   "outputs": [
    {
     "data": {
      "text/plain": [
       "array([0.12955149, 0.07946554, 0.04360056, 0.06153305, 0.10873093,\n",
       "       0.10873093, 0.07946554, 0.        , 0.00803697, 0.0323488 ,\n",
       "       0.        , 0.60970464, 0.07946554, 0.17862166, 0.41772152,\n",
       "       0.07946554, 0.        , 0.60970464, 0.01054852, 0.0323488 ,\n",
       "       0.03164557, 0.27707454, 0.30098453, 0.0121894 , 0.07946554,\n",
       "       0.        , 0.        , 0.02756681, 0.10423504, 0.10423504,\n",
       "       0.01172058, 0.        , 0.        , 0.07946554, 0.03248945,\n",
       "       0.07946554, 0.60970464, 0.27707454, 0.08415377, 0.08415377,\n",
       "       0.12955149, 0.        , 0.0140647 , 0.07946554, 0.03248945,\n",
       "       0.35864979, 0.10873093, 0.10423504, 0.02390999, 0.10423504,\n",
       "       0.03164557, 0.02208158, 0.        , 0.        , 0.01312705,\n",
       "       0.00225035, 0.10873093, 0.10873093, 0.1203171 , 0.69057665,\n",
       "       0.        , 0.        , 0.01898734, 0.28691983, 0.06153305,\n",
       "       0.60970464, 0.19878106, 0.35864979, 0.10873093, 0.1203171 ,\n",
       "       0.07946554, 0.        , 0.01312705, 0.00843882, 0.07946554,\n",
       "       0.        , 0.03248945, 0.03248945, 0.10873093, 0.23347398,\n",
       "       0.07946554, 0.01312705, 0.03445851, 0.02208158, 0.        ,\n",
       "       0.02208158, 0.03445851, 0.18002813, 0.03938115, 0.10423504,\n",
       "       0.20300047, 0.        , 0.03445851, 0.02390999, 0.        ,\n",
       "       0.60970464, 0.        , 0.02039381, 0.        , 0.        ,\n",
       "       0.00803697, 0.1203171 , 0.1109353 , 0.        , 0.        ,\n",
       "       0.20300047, 0.84153774, 0.        , 0.00773558, 0.01312705,\n",
       "       0.05344585, 0.03248945, 0.00773558, 0.1109353 , 0.00225035,\n",
       "       0.00225035, 0.10873093, 0.00225035, 0.1203171 , 0.04360056,\n",
       "       0.0323488 , 0.18002813, 0.0604782 , 0.01172058, 0.        ,\n",
       "       0.18002813, 0.80168776, 0.        , 0.12955149, 0.1109353 ,\n",
       "       0.        , 0.        , 0.        , 0.03164557, 0.02208158,\n",
       "       0.28481013, 0.        , 0.01424051, 0.        , 0.00803697,\n",
       "       0.03164557, 0.63994374, 0.03445851, 0.28691983, 0.10873093,\n",
       "       0.02194093, 0.10423504, 0.        , 0.01593999, 0.01312705,\n",
       "       0.        , 0.01312705, 0.0604782 , 0.00773558, 0.        ,\n",
       "       0.02208158, 0.09142053, 0.02390999, 0.03164557, 0.01898734,\n",
       "       0.28481013, 0.18002813, 0.00309423, 0.02039381, 0.02756681])"
      ]
     },
     "execution_count": 19,
     "metadata": {},
     "output_type": "execute_result"
    }
   ],
   "source": [
    "model_tree = DecisionTreeRegressor(random_state=42)\n",
    "model_tree.fit(x_train, y_train)\n",
    "\n",
    "y_pred = model_tree.predict(x_test)\n",
    "y_pred"
   ]
  },
  {
   "cell_type": "code",
   "execution_count": 20,
   "metadata": {},
   "outputs": [
    {
     "data": {
      "text/plain": [
       "0.7503779883924386"
      ]
     },
     "execution_count": 20,
     "metadata": {},
     "output_type": "execute_result"
    }
   ],
   "source": [
    "score = model_tree.score(x_test, y_test)\n",
    "score"
   ]
  },
  {
   "cell_type": "code",
   "execution_count": null,
   "metadata": {},
   "outputs": [],
   "source": []
  }
 ],
 "metadata": {
  "kernelspec": {
   "display_name": "Python 3",
   "language": "python",
   "name": "python3"
  },
  "language_info": {
   "codemirror_mode": {
    "name": "ipython",
    "version": 3
   },
   "file_extension": ".py",
   "mimetype": "text/x-python",
   "name": "python",
   "nbconvert_exporter": "python",
   "pygments_lexer": "ipython3",
   "version": "3.12.5"
  }
 },
 "nbformat": 4,
 "nbformat_minor": 2
}
