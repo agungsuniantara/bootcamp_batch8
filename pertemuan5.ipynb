{
 "cells": [
  {
   "cell_type": "code",
   "execution_count": 4,
   "metadata": {},
   "outputs": [
    {
     "name": "stdout",
     "output_type": "stream",
     "text": [
      "denpasar\n",
      "canggu\n",
      "tabanan\n"
     ]
    }
   ],
   "source": [
    "alamat = [\"denpasar\", \"canggu\", \"tabanan\"]\n",
    "nama = \"agung\"\n",
    "\n",
    "print(alamat[0])\n",
    "print(alamat[1])\n",
    "print(alamat[2])"
   ]
  },
  {
   "cell_type": "code",
   "execution_count": 8,
   "metadata": {},
   "outputs": [
    {
     "name": "stdout",
     "output_type": "stream",
     "text": [
      "denpasar\n",
      "canggu\n",
      "tabanan\n",
      "denpasar\n",
      "canggu\n",
      "tabanan\n"
     ]
    }
   ],
   "source": [
    "#foreach\n",
    "for i in alamat:\n",
    "    print(i)\n",
    "\n",
    "for i in range(len(alamat)):\n",
    "    print(alamat[i])"
   ]
  },
  {
   "cell_type": "markdown",
   "metadata": {},
   "source": [
    "ACCESSING LIST"
   ]
  },
  {
   "cell_type": "code",
   "execution_count": 21,
   "metadata": {},
   "outputs": [
    {
     "name": "stdout",
     "output_type": "stream",
     "text": [
      "denpasar\n",
      "['denpasar', 'canggu']\n",
      "['canggu', 'tabanan', 'gianyar']\n",
      "gianyar\n",
      "canggu\n",
      "['canggu', 'tabanan', 'gianyar']\n",
      "['denpasar', 'tabanan']\n",
      "['gianyar', 'tabanan', 'canggu', 'denpasar']\n"
     ]
    }
   ],
   "source": [
    "alamat = [\"denpasar\", \"canggu\", \"tabanan\", \"gianyar\"]\n",
    "\n",
    "print(alamat[0])\n",
    "\n",
    "# slicing\n",
    "\n",
    "print(alamat[0 : 2]) # [start : batas]\n",
    "print(alamat[1 :])\n",
    "print(alamat[-1])\n",
    "print(alamat[-3])\n",
    "print(alamat[-3 :])\n",
    "print(alamat[0 : 3 : 2]) # [start : batas : step]\n",
    "print(alamat[::-1])"
   ]
  },
  {
   "cell_type": "markdown",
   "metadata": {},
   "source": [
    "UPDATE LIST"
   ]
  },
  {
   "cell_type": "code",
   "execution_count": 23,
   "metadata": {},
   "outputs": [
    {
     "name": "stdout",
     "output_type": "stream",
     "text": [
      "['badung', 'canggu', 'tabanan', 'gianyar']\n"
     ]
    }
   ],
   "source": [
    "alamat = [\"denpasar\", \"canggu\", \"tabanan\", \"gianyar\"]\n",
    "alamat[0] = \"badung\"\n",
    "print(alamat)"
   ]
  },
  {
   "cell_type": "code",
   "execution_count": 24,
   "metadata": {},
   "outputs": [
    {
     "name": "stdout",
     "output_type": "stream",
     "text": [
      "['denpasar', 'canggu', 'tabanan', 'gianyar', 'surabaya']\n"
     ]
    }
   ],
   "source": [
    "alamat = [\"denpasar\", \"canggu\", \"tabanan\", \"gianyar\"]\n",
    "alamat.append(\"surabaya\")\n",
    "print(alamat)"
   ]
  },
  {
   "cell_type": "code",
   "execution_count": 26,
   "metadata": {},
   "outputs": [
    {
     "name": "stdout",
     "output_type": "stream",
     "text": [
      "['denpasar', 'Surabaya', 'canggu', 'tabanan', 'gianyar']\n"
     ]
    }
   ],
   "source": [
    "alamat = [\"denpasar\", \"canggu\", \"tabanan\", \"gianyar\"]\n",
    "alamat.insert(1, \"Surabaya\")\n",
    "print(alamat)"
   ]
  },
  {
   "cell_type": "markdown",
   "metadata": {},
   "source": [
    "DELETE LIST"
   ]
  },
  {
   "cell_type": "code",
   "execution_count": 27,
   "metadata": {},
   "outputs": [
    {
     "name": "stdout",
     "output_type": "stream",
     "text": [
      "['denpasar', 'tabanan', 'gianyar']\n"
     ]
    }
   ],
   "source": [
    "alamat = [\"denpasar\", \"canggu\", \"tabanan\", \"gianyar\"]\n",
    "del alamat[1]\n",
    "print(alamat)"
   ]
  },
  {
   "cell_type": "code",
   "execution_count": 28,
   "metadata": {},
   "outputs": [
    {
     "name": "stdout",
     "output_type": "stream",
     "text": [
      "['denpasar', 'canggu', 'gianyar']\n"
     ]
    }
   ],
   "source": [
    "alamat = [\"denpasar\", \"canggu\", \"tabanan\", \"gianyar\"]\n",
    "alamat.remove(\"tabanan\")\n",
    "print(alamat)"
   ]
  },
  {
   "cell_type": "code",
   "execution_count": 29,
   "metadata": {},
   "outputs": [
    {
     "name": "stdout",
     "output_type": "stream",
     "text": [
      "['denpasar', 'tabanan', 'gianyar']\n",
      "canggu\n"
     ]
    }
   ],
   "source": [
    "alamat = [\"denpasar\", \"canggu\", \"tabanan\", \"gianyar\"]\n",
    "hapus = alamat.pop(1)\n",
    "print(alamat)\n",
    "print(hapus)"
   ]
  },
  {
   "cell_type": "markdown",
   "metadata": {},
   "source": [
    "LIST COMBINE"
   ]
  },
  {
   "cell_type": "code",
   "execution_count": 30,
   "metadata": {},
   "outputs": [
    {
     "name": "stdout",
     "output_type": "stream",
     "text": [
      "['denpasar', 'canggu', 'Gianyar', 'Badung']\n"
     ]
    }
   ],
   "source": [
    "alamat1 = [\"denpasar\", \"canggu\"]\n",
    "alamat2 = [\"Gianyar\", \"Badung\"]\n",
    "hasil = alamat1 + alamat2\n",
    "print(hasil)"
   ]
  },
  {
   "cell_type": "code",
   "execution_count": 31,
   "metadata": {},
   "outputs": [
    {
     "name": "stdout",
     "output_type": "stream",
     "text": [
      "['denpasar', 'canggu', 'denpasar', 'canggu']\n"
     ]
    }
   ],
   "source": [
    "alamat1 = [\"denpasar\", \"canggu\"]\n",
    "hasil = alamat1 * 2\n",
    "print(hasil)"
   ]
  },
  {
   "cell_type": "markdown",
   "metadata": {},
   "source": [
    "LIST MULTIDIMENSI"
   ]
  },
  {
   "cell_type": "code",
   "execution_count": 34,
   "metadata": {},
   "outputs": [
    {
     "name": "stdout",
     "output_type": "stream",
     "text": [
      "[0, 1, 2]\n",
      "4\n"
     ]
    }
   ],
   "source": [
    "data = [\n",
    "    [0,1,2],\n",
    "    [3,4,5],\n",
    "    [6,7,8]\n",
    "]\n",
    "\n",
    "print(data[0])\n",
    "print(data[1][1])"
   ]
  },
  {
   "cell_type": "code",
   "execution_count": 37,
   "metadata": {},
   "outputs": [
    {
     "name": "stdout",
     "output_type": "stream",
     "text": [
      "[0, 1, 2]\n",
      "0\n",
      "1\n",
      "2\n",
      "[3, 4, 5]\n",
      "3\n",
      "4\n",
      "5\n",
      "[6, 7, 8]\n",
      "6\n",
      "7\n",
      "8\n"
     ]
    }
   ],
   "source": [
    "for i in data:\n",
    "    print(i)\n",
    "    for x in i:\n",
    "        print(x)"
   ]
  },
  {
   "cell_type": "code",
   "execution_count": 38,
   "metadata": {},
   "outputs": [
    {
     "name": "stdout",
     "output_type": "stream",
     "text": [
      "[0, 1, 4, 9, 16]\n"
     ]
    }
   ],
   "source": [
    "data = [i ** 2 for i in range(5)] \n",
    "\n",
    "print(data)"
   ]
  },
  {
   "cell_type": "markdown",
   "metadata": {},
   "source": [
    "MAP"
   ]
  },
  {
   "cell_type": "code",
   "execution_count": 41,
   "metadata": {},
   "outputs": [
    {
     "name": "stdout",
     "output_type": "stream",
     "text": [
      "1.0\n",
      "2.0\n",
      "3.0\n"
     ]
    }
   ],
   "source": [
    "a, b, c = map(float, [1,2,3])\n",
    "\n",
    "print(a)\n",
    "print(b)\n",
    "print(c)"
   ]
  },
  {
   "cell_type": "markdown",
   "metadata": {},
   "source": [
    "SPLIT"
   ]
  },
  {
   "cell_type": "code",
   "execution_count": 44,
   "metadata": {},
   "outputs": [
    {
     "name": "stdout",
     "output_type": "stream",
     "text": [
      "['test1', 'test2', 'test3']\n"
     ]
    }
   ],
   "source": [
    "data = input(\"masukan kata : \").split()\n",
    "print(hasil)"
   ]
  },
  {
   "cell_type": "markdown",
   "metadata": {},
   "source": [
    "MAP & SPLIT"
   ]
  },
  {
   "cell_type": "code",
   "execution_count": 45,
   "metadata": {},
   "outputs": [
    {
     "name": "stdout",
     "output_type": "stream",
     "text": [
      "1.0\n",
      "2.0\n",
      "3.0\n"
     ]
    }
   ],
   "source": [
    "a, b, c = map(float, input(\"angka : \").split())\n",
    "\n",
    "print(a)\n",
    "print(b)\n",
    "print(c)"
   ]
  },
  {
   "cell_type": "code",
   "execution_count": 49,
   "metadata": {},
   "outputs": [
    {
     "name": "stdout",
     "output_type": "stream",
     "text": [
      "[1, 2, 3, 4]\n",
      "['h', 'a', 'l', 'o']\n"
     ]
    }
   ],
   "source": [
    "data = [1,2,3,4]\n",
    "test = list(\"halo\")\n",
    "print(data)\n",
    "print(test)"
   ]
  },
  {
   "cell_type": "markdown",
   "metadata": {},
   "source": [
    "LIST , MAP, SPLIT"
   ]
  },
  {
   "cell_type": "code",
   "execution_count": 51,
   "metadata": {},
   "outputs": [
    {
     "name": "stdout",
     "output_type": "stream",
     "text": [
      "[1.0, 2.0, 3.0, 4.0, 5.0, 6.0]\n"
     ]
    }
   ],
   "source": [
    "data = list(map(float, input(\"angka : \").split()))\n",
    "\n",
    "print(data)"
   ]
  },
  {
   "cell_type": "code",
   "execution_count": null,
   "metadata": {},
   "outputs": [],
   "source": [
    "kosong = [\"kosong\"]\n",
    "aktif = [True]\n",
    "test = [1, \"satu\", True, 2.0]\n",
    "\n",
    "# string = huruf / kalimat\n",
    "# int = bilangan bulat\n",
    "# float = bilangan desimal"
   ]
  },
  {
   "cell_type": "code",
   "execution_count": 53,
   "metadata": {},
   "outputs": [
    {
     "name": "stdout",
     "output_type": "stream",
     "text": [
      "False\n"
     ]
    }
   ],
   "source": [
    "cek_panjang = input(\"angka : \").split()\n",
    "\n",
    "if len(cek_panjang) > 10:\n",
    "    print(True)\n",
    "else:\n",
    "    print(False)"
   ]
  },
  {
   "cell_type": "code",
   "execution_count": 60,
   "metadata": {},
   "outputs": [
    {
     "name": "stdout",
     "output_type": "stream",
     "text": [
      "wel\n"
     ]
    }
   ],
   "source": [
    "mystr = \"welcome to koding akademi\"\n",
    "\n",
    "print(mystr[0:3])"
   ]
  },
  {
   "cell_type": "markdown",
   "metadata": {},
   "source": [
    "DICTIONARY"
   ]
  },
  {
   "cell_type": "code",
   "execution_count": 63,
   "metadata": {},
   "outputs": [
    {
     "name": "stdout",
     "output_type": "stream",
     "text": [
      "agung\n",
      "denpasar\n"
     ]
    }
   ],
   "source": [
    "data = {\n",
    "    \"nama\" : \"agung\",\n",
    "    \"alamat\" : \"denpasar\"\n",
    "}\n",
    "\n",
    "print(data[\"nama\"])\n",
    "print(data[\"alamat\"])"
   ]
  },
  {
   "cell_type": "code",
   "execution_count": 64,
   "metadata": {},
   "outputs": [
    {
     "name": "stdout",
     "output_type": "stream",
     "text": [
      "agung\n",
      "denpasar\n"
     ]
    }
   ],
   "source": [
    "data = dict(nama = \"agung\", alamat = \"denpasar\")\n",
    "\n",
    "print(data[\"nama\"])\n",
    "print(data[\"alamat\"])"
   ]
  },
  {
   "cell_type": "code",
   "execution_count": 67,
   "metadata": {},
   "outputs": [
    {
     "name": "stdout",
     "output_type": "stream",
     "text": [
      "nama\n",
      "agung\n",
      "alamat\n",
      "denpasar\n"
     ]
    }
   ],
   "source": [
    "data = {\n",
    "    \"nama\" : \"agung\",\n",
    "    \"alamat\" : \"denpasar\"\n",
    "}\n",
    "\n",
    "for i in data:\n",
    "    print(i)\n",
    "    print(data[i])"
   ]
  },
  {
   "cell_type": "markdown",
   "metadata": {},
   "source": [
    "UPDATE DICTIONARY"
   ]
  },
  {
   "cell_type": "code",
   "execution_count": 68,
   "metadata": {},
   "outputs": [
    {
     "name": "stdout",
     "output_type": "stream",
     "text": [
      "{'nama': 'wahyu', 'alamat': 'denpasar'}\n"
     ]
    }
   ],
   "source": [
    "data = {\n",
    "    \"nama\" : \"agung\",\n",
    "    \"alamat\" : \"denpasar\"\n",
    "}\n",
    "\n",
    "data[\"nama\"] = \"wahyu\"\n",
    "\n",
    "print(data)"
   ]
  },
  {
   "cell_type": "markdown",
   "metadata": {},
   "source": [
    "DELETE DICTIONARY"
   ]
  },
  {
   "cell_type": "code",
   "execution_count": 69,
   "metadata": {},
   "outputs": [
    {
     "name": "stdout",
     "output_type": "stream",
     "text": [
      "{'alamat': 'denpasar'}\n"
     ]
    }
   ],
   "source": [
    "data = {\n",
    "    \"nama\" : \"agung\",\n",
    "    \"alamat\" : \"denpasar\"\n",
    "}\n",
    "\n",
    "del data[\"nama\"]\n",
    "\n",
    "print(data)"
   ]
  },
  {
   "cell_type": "code",
   "execution_count": 70,
   "metadata": {},
   "outputs": [
    {
     "name": "stdout",
     "output_type": "stream",
     "text": [
      "{'alamat': 'denpasar'}\n",
      "agung\n"
     ]
    }
   ],
   "source": [
    "data = {\n",
    "    \"nama\" : \"agung\",\n",
    "    \"alamat\" : \"denpasar\"\n",
    "}\n",
    "\n",
    "hapus = data.pop(\"nama\")\n",
    "\n",
    "print(data)\n",
    "print(hapus)"
   ]
  },
  {
   "cell_type": "markdown",
   "metadata": {},
   "source": [
    "ADD DICTIONARY"
   ]
  },
  {
   "cell_type": "code",
   "execution_count": 71,
   "metadata": {},
   "outputs": [
    {
     "name": "stdout",
     "output_type": "stream",
     "text": [
      "{'nama': 'agung', 'alamat': 'denpasar', 'status': 'lajang'}\n"
     ]
    }
   ],
   "source": [
    "data = {\n",
    "    \"nama\" : \"agung\",\n",
    "    \"alamat\" : \"denpasar\"\n",
    "}\n",
    "\n",
    "data.update({\"status\" : \"lajang\"})\n",
    "print(data)"
   ]
  },
  {
   "cell_type": "code",
   "execution_count": 78,
   "metadata": {},
   "outputs": [
    {
     "name": "stdout",
     "output_type": "stream",
     "text": [
      "[1, 2, 3, 4, 5, 6, 10, 8, 5, 10]\n",
      "{1, 2, 3, 4, 5, 6, 8, 10}\n"
     ]
    }
   ],
   "source": [
    "data = [1,2,3,4,5,6,10,8,5,10]\n",
    "data2 = {1,2,3,4,5,6,10,8,5,10}\n",
    "\n",
    "print(data)\n",
    "print(data2)"
   ]
  },
  {
   "cell_type": "code",
   "execution_count": 81,
   "metadata": {},
   "outputs": [
    {
     "name": "stdout",
     "output_type": "stream",
     "text": [
      "[1, 2, 3, 4, 5, 6, 10, 8, 5, 10, 67]\n",
      "{1, 2, 3, 4, 5, 6, 67, 8, 10}\n"
     ]
    }
   ],
   "source": [
    "# struktur data list, set\n",
    "\n",
    "# list = []\n",
    "# set = {}\n",
    "\n",
    "data = [1,2,3,4,5,6,10,8,5,10]\n",
    "data2 = {1,2,3,4,5,6,10,8,5,10}\n",
    "\n",
    "data.append(67)\n",
    "data2.update({67})\n",
    "\n",
    "print(data)\n",
    "print(data2)"
   ]
  },
  {
   "cell_type": "code",
   "execution_count": 86,
   "metadata": {},
   "outputs": [
    {
     "name": "stdout",
     "output_type": "stream",
     "text": [
      "['10']\n",
      "{'nama': 'robert'}\n"
     ]
    }
   ],
   "source": [
    "test = [input(\"angka : \")]\n",
    "test2 = {\n",
    "    \"nama\" : input(\"silahkan masukan nama : \")\n",
    "}\n",
    "print(test)\n",
    "print(test2)"
   ]
  },
  {
   "cell_type": "code",
   "execution_count": null,
   "metadata": {},
   "outputs": [],
   "source": [
    "data = {\n",
    "    \"nama\" : input(\"silahkan masukan nama : \"),\n",
    "    \"alamat\" : input(\"silahkan masukan alamat : \"),\n",
    "}\n",
    "\n",
    "print(f\"Nama = {data[\"nama\"]}\")"
   ]
  },
  {
   "cell_type": "code",
   "execution_count": 89,
   "metadata": {},
   "outputs": [
    {
     "name": "stdout",
     "output_type": "stream",
     "text": [
      "{'romance': 'twillight'}\n"
     ]
    }
   ],
   "source": [
    "buku = {\n",
    "    \"action\" : \"marvel\",\n",
    "    \"romance\" : \"twillight\"\n",
    "}\n",
    "\n",
    "kondisi = input(\"tambah / hapus : \")\n",
    "\n",
    "if kondisi == \"tambah\":\n",
    "    jenis = input(\"masukan jenis : \")\n",
    "    judul = input(\"masukan buku : \")\n",
    "    buku.update({jenis : judul})\n",
    "    print(buku)\n",
    "elif kondisi == \"hapus\":\n",
    "    jenis = input(\"masukan jenis buku yang di hapus : \")\n",
    "    del buku[jenis]\n",
    "    print(buku)\n"
   ]
  },
  {
   "cell_type": "code",
   "execution_count": null,
   "metadata": {},
   "outputs": [],
   "source": []
  }
 ],
 "metadata": {
  "kernelspec": {
   "display_name": "Python 3",
   "language": "python",
   "name": "python3"
  },
  "language_info": {
   "codemirror_mode": {
    "name": "ipython",
    "version": 3
   },
   "file_extension": ".py",
   "mimetype": "text/x-python",
   "name": "python",
   "nbconvert_exporter": "python",
   "pygments_lexer": "ipython3",
   "version": "3.12.5"
  }
 },
 "nbformat": 4,
 "nbformat_minor": 2
}
