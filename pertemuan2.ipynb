{
 "cells": [
  {
   "cell_type": "markdown",
   "metadata": {},
   "source": [
    "VARIABEL"
   ]
  },
  {
   "cell_type": "code",
   "execution_count": 8,
   "metadata": {},
   "outputs": [
    {
     "name": "stdout",
     "output_type": "stream",
     "text": [
      "emi\n",
      "Nama : emi\n"
     ]
    }
   ],
   "source": [
    "nama = \"emi\"\n",
    "_nama = \"william\"\n",
    "__nama = \"agung\"\n",
    "nama_depan = \"test\"\n",
    "namaDepan = \"wahyu\"\n",
    "\n",
    "print(nama)\n",
    "print(\"Nama :\", nama)"
   ]
  },
  {
   "cell_type": "code",
   "execution_count": 10,
   "metadata": {},
   "outputs": [
    {
     "ename": "NameError",
     "evalue": "name 'nama' is not defined",
     "output_type": "error",
     "traceback": [
      "\u001b[0;31m---------------------------------------------------------------------------\u001b[0m",
      "\u001b[0;31mNameError\u001b[0m                                 Traceback (most recent call last)",
      "Cell \u001b[0;32mIn[10], line 1\u001b[0m\n\u001b[0;32m----> 1\u001b[0m \u001b[38;5;28mprint\u001b[39m(\u001b[43mnama\u001b[49m)\n\u001b[1;32m      2\u001b[0m nama \u001b[38;5;241m=\u001b[39m \u001b[38;5;124m\"\u001b[39m\u001b[38;5;124mkoding akademi\u001b[39m\u001b[38;5;124m\"\u001b[39m\n\u001b[1;32m      3\u001b[0m \u001b[38;5;28mprint\u001b[39m(nama)\n",
      "\u001b[0;31mNameError\u001b[0m: name 'nama' is not defined"
     ]
    }
   ],
   "source": [
    "print(nama)\n",
    "nama = \"koding akademi\"\n",
    "print(nama)\n",
    "del (nama) # del = fungsi hapus variabel\n",
    "print(nama)"
   ]
  },
  {
   "cell_type": "markdown",
   "metadata": {},
   "source": [
    "TIPE DATA"
   ]
  },
  {
   "cell_type": "code",
   "execution_count": 17,
   "metadata": {},
   "outputs": [
    {
     "name": "stdout",
     "output_type": "stream",
     "text": [
      "nama : agung 10 tipe data : <class 'str'>\n"
     ]
    }
   ],
   "source": [
    "nama = \"agung 10\" # str / string (tipe data menyimpan huruf / tulisan)\n",
    "karakter = 'a' # char\n",
    "angka = 10 # int / integer (tipe data menyimpan bilangan bulat)\n",
    "koma = 10.5 # float (tipe data menyimpan bilangan desimal)\n",
    "benar = True # boolean (tipe data menyimpan true / false)\n",
    "salah = False\n",
    "\n",
    "print(\"nama :\", nama, \"tipe data :\", type(nama))"
   ]
  },
  {
   "cell_type": "markdown",
   "metadata": {},
   "source": [
    "KONVERSI"
   ]
  },
  {
   "cell_type": "code",
   "execution_count": 20,
   "metadata": {},
   "outputs": [
    {
     "name": "stdout",
     "output_type": "stream",
     "text": [
      "10.5\n",
      "<class 'float'>\n",
      "10\n",
      "<class 'int'>\n"
     ]
    }
   ],
   "source": [
    "angka1 = 40 \n",
    "angka1_int = float(angka1)\n",
    "\n",
    "print(angka1)\n",
    "print(type(angka1))\n",
    "\n",
    "print(angka1_int)\n",
    "print(type(angka1_int))"
   ]
  },
  {
   "cell_type": "markdown",
   "metadata": {},
   "source": [
    "ASSIGNMENT"
   ]
  },
  {
   "cell_type": "code",
   "execution_count": 21,
   "metadata": {},
   "outputs": [
    {
     "name": "stdout",
     "output_type": "stream",
     "text": [
      "Type integer = 10\n"
     ]
    }
   ],
   "source": [
    "# No 4 \n",
    "\n",
    "angka1 = 10\n",
    "angka2 = 0.5\n",
    "\n",
    "print(\"Type integer =\", angka)"
   ]
  },
  {
   "cell_type": "code",
   "execution_count": 22,
   "metadata": {},
   "outputs": [
    {
     "name": "stdout",
     "output_type": "stream",
     "text": [
      "45.0\n"
     ]
    }
   ],
   "source": [
    "angka1 = 45\n",
    "angka2 = 0.667\n",
    "\n",
    "angka1_float = float(angka1)\n",
    "\n",
    "print(angka1_float)"
   ]
  },
  {
   "cell_type": "markdown",
   "metadata": {},
   "source": [
    "INPUT & OUTPUT"
   ]
  },
  {
   "cell_type": "code",
   "execution_count": 27,
   "metadata": {},
   "outputs": [
    {
     "name": "stdout",
     "output_type": "stream",
     "text": [
      "halo agung\n",
      "<class 'str'>\n"
     ]
    }
   ],
   "source": [
    "nama = input(\"Nama :\")\n",
    "print(\"halo\", nama)\n",
    "print(type(nama))"
   ]
  },
  {
   "cell_type": "code",
   "execution_count": 29,
   "metadata": {},
   "outputs": [
    {
     "name": "stdout",
     "output_type": "stream",
     "text": [
      "20\n",
      "<class 'int'>\n"
     ]
    }
   ],
   "source": [
    "angka = int(input(\"Angka :\"))\n",
    "print(angka)\n",
    "print(type(angka))"
   ]
  },
  {
   "cell_type": "code",
   "execution_count": 33,
   "metadata": {},
   "outputs": [
    {
     "name": "stdout",
     "output_type": "stream",
     "text": [
      "hello \n",
      "world\n",
      "world\n"
     ]
    }
   ],
   "source": [
    "print(\"hello \\nworld\")\n",
    "print(\"world\")"
   ]
  },
  {
   "cell_type": "code",
   "execution_count": 43,
   "metadata": {},
   "outputs": [
    {
     "name": "stdout",
     "output_type": "stream",
     "text": [
      "halo # teman !"
     ]
    }
   ],
   "source": [
    "print(\"halo \", end = \"# \")\n",
    "print(\"teman\", end = \" !\")"
   ]
  },
  {
   "cell_type": "code",
   "execution_count": 45,
   "metadata": {},
   "outputs": [
    {
     "name": "stdout",
     "output_type": "stream",
     "text": [
      "a#b#c\n"
     ]
    }
   ],
   "source": [
    "print(\"a\",\"b\",\"c\", sep = \"#\")"
   ]
  },
  {
   "cell_type": "markdown",
   "metadata": {},
   "source": [
    "FORMAT"
   ]
  },
  {
   "cell_type": "code",
   "execution_count": 55,
   "metadata": {},
   "outputs": [
    {
     "name": "stdout",
     "output_type": "stream",
     "text": [
      "nama : agung alamat : canggu\n",
      "nama : agung alamat : canggu\n",
      "nama : agung alamat : canggu\n",
      "nama : canggu alamat : agung\n",
      "nama : agung alamat : canggu\n",
      "nama : agung alamat : canggu angka : 10\n"
     ]
    }
   ],
   "source": [
    "nama = \"agung\"\n",
    "alamat = \"canggu\"\n",
    "angka = 10\n",
    "\n",
    "print(\"nama :\",nama,\"alamat :\",alamat) # cara1\n",
    "print(f\"nama : {nama} alamat : {alamat}\") # cara2\n",
    "print(\"nama : {} alamat : {}\".format(nama, alamat)) # cara3\n",
    "print(\"nama : {1} alamat : {0}\".format(nama, alamat)) # cara4\n",
    "print(\"nama : {a} alamat : {b}\".format(a = nama, b = alamat)) # cara5\n",
    "print(\"nama : %s alamat : %s angka : %d\" %(nama, alamat, angka)) # cara6"
   ]
  },
  {
   "cell_type": "markdown",
   "metadata": {},
   "source": [
    "ASSIGNMENT"
   ]
  },
  {
   "cell_type": "code",
   "execution_count": 57,
   "metadata": {},
   "outputs": [
    {
     "name": "stdout",
     "output_type": "stream",
     "text": [
      "Halo robert selamat data di koding akademi\n"
     ]
    }
   ],
   "source": [
    "nama = input(\"masukan nama : \")\n",
    "\n",
    "print(f\"Halo {nama} selamat data di koding akademi\")"
   ]
  },
  {
   "cell_type": "code",
   "execution_count": null,
   "metadata": {},
   "outputs": [],
   "source": []
  }
 ],
 "metadata": {
  "kernelspec": {
   "display_name": "Python 3",
   "language": "python",
   "name": "python3"
  },
  "language_info": {
   "codemirror_mode": {
    "name": "ipython",
    "version": 3
   },
   "file_extension": ".py",
   "mimetype": "text/x-python",
   "name": "python",
   "nbconvert_exporter": "python",
   "pygments_lexer": "ipython3",
   "version": "3.12.7"
  }
 },
 "nbformat": 4,
 "nbformat_minor": 2
}
