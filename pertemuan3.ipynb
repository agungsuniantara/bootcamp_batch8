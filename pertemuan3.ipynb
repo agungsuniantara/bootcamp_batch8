{
 "cells": [
  {
   "cell_type": "markdown",
   "metadata": {},
   "source": [
    "OPERATOR ARITMATIKA"
   ]
  },
  {
   "cell_type": "code",
   "execution_count": 4,
   "metadata": {},
   "outputs": [
    {
     "name": "stdout",
     "output_type": "stream",
     "text": [
      "Tambah = 7\n",
      "Kurang = 3\n",
      "Kali = 10\n",
      "Bagi = 2.5\n",
      "Modulo = 1\n",
      "Pangkat = 25\n"
     ]
    }
   ],
   "source": [
    "angka1 = 5\n",
    "angka2 = 2\n",
    "\n",
    "tambah = angka1 + angka2 \n",
    "kurang = angka1 - angka2 \n",
    "kali = angka1 * angka2 \n",
    "bagi = angka1 / angka2 \n",
    "modulo = angka1 % angka2\n",
    "pangkat = angka1 ** angka2\n",
    "\n",
    "print(f\"Tambah = {tambah}\")\n",
    "print(f\"Kurang = {kurang}\")\n",
    "print(f\"Kali = {kali}\")\n",
    "print(f\"Bagi = {bagi}\")\n",
    "print(f\"Modulo = {modulo}\")\n",
    "print(f\"Pangkat = {pangkat}\")\n"
   ]
  },
  {
   "cell_type": "code",
   "execution_count": 5,
   "metadata": {},
   "outputs": [
    {
     "name": "stdout",
     "output_type": "stream",
     "text": [
      "helloworld\n"
     ]
    }
   ],
   "source": [
    "kalimat = \"hello\"\n",
    "world = \"world\"\n",
    "\n",
    "hasil = kalimat + world\n",
    "\n",
    "print(hasil)"
   ]
  },
  {
   "cell_type": "markdown",
   "metadata": {},
   "source": [
    "OPERATOR PENUGASAN"
   ]
  },
  {
   "cell_type": "code",
   "execution_count": 11,
   "metadata": {},
   "outputs": [
    {
     "name": "stdout",
     "output_type": "stream",
     "text": [
      "10\n",
      "11\n",
      "9\n",
      "3.0\n",
      "6.0\n",
      "0.0\n",
      "0.0\n"
     ]
    }
   ],
   "source": [
    "angka = 10 \n",
    "print(angka)\n",
    "angka += 1 # angka = angka + 1\n",
    "print(angka)\n",
    "angka -= 2\n",
    "print(angka)\n",
    "angka /= 3\n",
    "print(angka)\n",
    "angka *= 2\n",
    "print(angka)\n",
    "angka %= 2\n",
    "print(angka)\n",
    "angka **= 2\n",
    "print(angka)"
   ]
  },
  {
   "cell_type": "markdown",
   "metadata": {},
   "source": [
    "OPERATOR PERBANDINGAN"
   ]
  },
  {
   "cell_type": "code",
   "execution_count": 19,
   "metadata": {},
   "outputs": [
    {
     "name": "stdout",
     "output_type": "stream",
     "text": [
      "True\n",
      "False\n",
      "False\n",
      "True\n",
      "False\n",
      "True\n"
     ]
    }
   ],
   "source": [
    "angka1 = 20\n",
    "angka2 = 40\n",
    "\n",
    "print(angka1 < angka2) # 1 kondisi\n",
    "print(angka1 > angka2)\n",
    "print(angka1 == angka2)\n",
    "print(angka1 != angka2)\n",
    "print(angka1 >= angka2)\n",
    "print(angka1 <= angka2)"
   ]
  },
  {
   "cell_type": "markdown",
   "metadata": {},
   "source": [
    "OPERATOR LOGIKA"
   ]
  },
  {
   "cell_type": "code",
   "execution_count": 23,
   "metadata": {},
   "outputs": [
    {
     "name": "stdout",
     "output_type": "stream",
     "text": [
      "False\n",
      "True\n",
      "False\n"
     ]
    }
   ],
   "source": [
    "angka1 = 20\n",
    "angka2 = 40\n",
    "angka3 = 10\n",
    "angka4 = 50\n",
    "\n",
    "# AND : \n",
    "# 1. true and false = false\n",
    "# 2. true and true = true\n",
    "# 3. false and false = false\n",
    "\n",
    "# OR : \n",
    "# 1. true or false = true\n",
    "# 2. true or true = true\n",
    "# 3. false or false = false\n",
    "\n",
    "print(angka1 < angka2 and angka3 > angka4)\n",
    "print(angka1 < angka2 or angka3 > angka4)\n",
    "print(angka1 < angka2 and angka3 > angka4 and angka2 > angka1)"
   ]
  },
  {
   "cell_type": "markdown",
   "metadata": {},
   "source": [
    "IN, NOT IN, IS"
   ]
  },
  {
   "cell_type": "code",
   "execution_count": 33,
   "metadata": {},
   "outputs": [
    {
     "name": "stdout",
     "output_type": "stream",
     "text": [
      "True\n",
      "False\n",
      "False\n"
     ]
    }
   ],
   "source": [
    "data = [1,2,3,4,5]\n",
    "angka = 5\n",
    "angka2 = 20\n",
    "\n",
    "print(angka in data)\n",
    "print(angka not in data)\n",
    "print(angka is angka2)"
   ]
  },
  {
   "cell_type": "markdown",
   "metadata": {},
   "source": [
    "ASSIGNMENT"
   ]
  },
  {
   "cell_type": "code",
   "execution_count": 37,
   "metadata": {},
   "outputs": [
    {
     "name": "stdout",
     "output_type": "stream",
     "text": [
      "0\n",
      "1\n",
      "2\n",
      "1\n"
     ]
    }
   ],
   "source": [
    "angka = 0 \n",
    "print(angka)\n",
    "angka += 1\n",
    "print(angka)\n",
    "angka += 1\n",
    "print(angka)\n",
    "angka -= 1\n",
    "print(angka)"
   ]
  },
  {
   "cell_type": "code",
   "execution_count": 47,
   "metadata": {},
   "outputs": [
    {
     "name": "stdout",
     "output_type": "stream",
     "text": [
      "True\n"
     ]
    }
   ],
   "source": [
    "num1 = int(input(\"angka 1\"))\n",
    "num2 = int(input(\"angka 2\"))\n",
    "\n",
    "print(num1 < num2)"
   ]
  },
  {
   "cell_type": "code",
   "execution_count": 56,
   "metadata": {},
   "outputs": [
    {
     "name": "stdout",
     "output_type": "stream",
     "text": [
      "False\n",
      "True\n"
     ]
    }
   ],
   "source": [
    "angka = 7\n",
    "\n",
    "print(angka % 2 == 0) # genap\n",
    "print(angka % 2 == 1) # ganjil"
   ]
  },
  {
   "cell_type": "markdown",
   "metadata": {},
   "source": [
    "IF STATEMENT"
   ]
  },
  {
   "cell_type": "code",
   "execution_count": 66,
   "metadata": {},
   "outputs": [
    {
     "name": "stdout",
     "output_type": "stream",
     "text": [
      "hello admin\n",
      "test\n"
     ]
    }
   ],
   "source": [
    "username = \"admin\"\n",
    "\n",
    "if username == \"admin\":\n",
    "    print(f\"hello {username}\")\n",
    "\n",
    "if True:\n",
    "    print(\"test\")"
   ]
  },
  {
   "cell_type": "markdown",
   "metadata": {},
   "source": [
    "ELSE STATEMENT"
   ]
  },
  {
   "cell_type": "code",
   "execution_count": 72,
   "metadata": {},
   "outputs": [
    {
     "name": "stdout",
     "output_type": "stream",
     "text": [
      "bukan admin\n"
     ]
    }
   ],
   "source": [
    "username = \"wahyu\"\n",
    "\n",
    "if username == \"admin\":\n",
    "    print(f\"hello {username}\")\n",
    "else:\n",
    "    print(\"bukan admin\")"
   ]
  },
  {
   "cell_type": "markdown",
   "metadata": {},
   "source": [
    "ELIF STATEMNT"
   ]
  },
  {
   "cell_type": "code",
   "execution_count": 82,
   "metadata": {},
   "outputs": [
    {
     "name": "stdout",
     "output_type": "stream",
     "text": [
      "False\n",
      "hello emi\n"
     ]
    }
   ],
   "source": [
    "username = \"emi\"\n",
    "\n",
    "if username == \"admin\":\n",
    "    print(\"hello admin\")\n",
    "elif username == \"wahyu\":\n",
    "    print(\"hello wahyu\")\n",
    "elif username == \"emi\":\n",
    "    print(\"hello emi\")\n",
    "else:\n",
    "    print(\"bukan admin\")"
   ]
  },
  {
   "cell_type": "code",
   "execution_count": 87,
   "metadata": {},
   "outputs": [
    {
     "name": "stdout",
     "output_type": "stream",
     "text": [
      "lebih kecil\n"
     ]
    }
   ],
   "source": [
    "angka = 10\n",
    "\n",
    "if angka > 20:\n",
    "    print(\"lebih besar\")\n",
    "else:\n",
    "    print(\"lebih kecil\")"
   ]
  },
  {
   "cell_type": "code",
   "execution_count": 89,
   "metadata": {},
   "outputs": [
    {
     "name": "stdout",
     "output_type": "stream",
     "text": [
      "hallo admin\n"
     ]
    }
   ],
   "source": [
    "username = \"admin\"\n",
    "password = 123 \n",
    "\n",
    "if username == \"admin\" and password == 123:\n",
    "    print(\"hallo admin\")\n",
    "else:\n",
    "    print(\"bukan admin\")"
   ]
  },
  {
   "cell_type": "code",
   "execution_count": 90,
   "metadata": {},
   "outputs": [
    {
     "name": "stdout",
     "output_type": "stream",
     "text": [
      "nilai D\n"
     ]
    }
   ],
   "source": [
    "nilai = int(input(\"nilai : \"))\n",
    "\n",
    "if nilai <= 50:\n",
    "    print(\"nilai D\")\n",
    "elif "
   ]
  },
  {
   "cell_type": "code",
   "execution_count": 92,
   "metadata": {},
   "outputs": [
    {
     "name": "stdout",
     "output_type": "stream",
     "text": [
      "angka genap\n"
     ]
    }
   ],
   "source": [
    "angka = int(input(\"angka : \"))\n",
    "\n",
    "if angka % 2 == 0:\n",
    "    print(\"angka genap\")\n",
    "else:\n",
    "    print(\"angka ganjil\")"
   ]
  },
  {
   "cell_type": "code",
   "execution_count": 94,
   "metadata": {},
   "outputs": [
    {
     "name": "stdout",
     "output_type": "stream",
     "text": [
      "Bayar = 750\n"
     ]
    }
   ],
   "source": [
    "kwh = int(input(\"masukan kwh : \"))\n",
    "\n",
    "if kwh > 0 and kwh < 100:\n",
    "    print(\"listrik gratis !\")\n",
    "elif kwh > 100 and kwh < 200:\n",
    "    harga = kwh * 5\n",
    "    print(f\"Bayar = {harga}\")\n",
    "elif kwh > 200:\n",
    "    harga = kwh * 10\n",
    "    print(f\"Bayar = {harga}\")\n",
    "else:\n",
    "    print(\"kwh tidak sesuai\")"
   ]
  },
  {
   "cell_type": "code",
   "execution_count": null,
   "metadata": {},
   "outputs": [],
   "source": []
  }
 ],
 "metadata": {
  "kernelspec": {
   "display_name": "Python 3",
   "language": "python",
   "name": "python3"
  },
  "language_info": {
   "codemirror_mode": {
    "name": "ipython",
    "version": 3
   },
   "file_extension": ".py",
   "mimetype": "text/x-python",
   "name": "python",
   "nbconvert_exporter": "python",
   "pygments_lexer": "ipython3",
   "version": "3.12.5"
  }
 },
 "nbformat": 4,
 "nbformat_minor": 2
}
